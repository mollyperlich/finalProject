{
 "cells": [
  {
   "cell_type": "code",
   "execution_count": 2,
   "metadata": {},
   "outputs": [],
   "source": [
    "# Bag of words could be defined as a matrix where each row represents a document and columns representing the individual token. One more thing, \n",
    "# the sequential order of text is not maintained. Building a \"Bag of Words\" involves 3 steps\n",
    "\n",
    "# tokenizing\n",
    "# counting\n",
    "# normalizing\n",
    "# Limitations to keep in mind: 1. Cannot capture phrases or multi-word expressions 2. Sensitive to misspellings, \n",
    "#     possible to work around that using a spell corrector or character representation,"
   ]
  },
  {
   "cell_type": "code",
   "execution_count": 3,
   "metadata": {},
   "outputs": [],
   "source": [
    "%matplotlib inline\n",
    "import matplotlib.pyplot as plt\n",
    "import numpy as np\n",
    "import pandas as pd\n",
    "from nltk.tokenize import sent_tokenize\n",
    "import collections, re"
   ]
  },
  {
   "cell_type": "code",
   "execution_count": 4,
   "metadata": {},
   "outputs": [
    {
     "data": {
      "text/html": [
       "<div>\n",
       "<style scoped>\n",
       "    .dataframe tbody tr th:only-of-type {\n",
       "        vertical-align: middle;\n",
       "    }\n",
       "\n",
       "    .dataframe tbody tr th {\n",
       "        vertical-align: top;\n",
       "    }\n",
       "\n",
       "    .dataframe thead th {\n",
       "        text-align: right;\n",
       "    }\n",
       "</style>\n",
       "<table border=\"1\" class=\"dataframe\">\n",
       "  <thead>\n",
       "    <tr style=\"text-align: right;\">\n",
       "      <th></th>\n",
       "      <th>title</th>\n",
       "      <th>category</th>\n",
       "      <th>id</th>\n",
       "      <th>sourceurl</th>\n",
       "      <th>content</th>\n",
       "      <th>publishdate</th>\n",
       "    </tr>\n",
       "  </thead>\n",
       "  <tbody>\n",
       "    <tr>\n",
       "      <th>0</th>\n",
       "      <td>Molly forgot her charger</td>\n",
       "      <td>Technology</td>\n",
       "      <td>kdfdhf333</td>\n",
       "      <td>https://google.com</td>\n",
       "      <td>This is the content right here. It's arguably ...</td>\n",
       "      <td>20190628</td>\n",
       "    </tr>\n",
       "    <tr>\n",
       "      <th>1</th>\n",
       "      <td>Connie Also forgot charter</td>\n",
       "      <td>Technology</td>\n",
       "      <td>kdfdhf3dfdf33</td>\n",
       "      <td>https://google.com/charger</td>\n",
       "      <td>This is the content right here and it was here...</td>\n",
       "      <td>20190627</td>\n",
       "    </tr>\n",
       "  </tbody>\n",
       "</table>\n",
       "</div>"
      ],
      "text/plain": [
       "                        title    category             id  \\\n",
       "0    Molly forgot her charger  Technology      kdfdhf333   \n",
       "1  Connie Also forgot charter  Technology  kdfdhf3dfdf33   \n",
       "\n",
       "                    sourceurl  \\\n",
       "0          https://google.com   \n",
       "1  https://google.com/charger   \n",
       "\n",
       "                                             content  publishdate  \n",
       "0  This is the content right here. It's arguably ...     20190628  \n",
       "1  This is the content right here and it was here...     20190627  "
      ]
     },
     "execution_count": 4,
     "metadata": {},
     "output_type": "execute_result"
    }
   ],
   "source": [
    "# Read the csv file into a pandas DataFrame\n",
    "examp = pd.read_csv('convertcsv.csv')\n",
    "examp.head()"
   ]
  },
  {
   "cell_type": "code",
   "execution_count": 5,
   "metadata": {},
   "outputs": [],
   "source": [
    "content_ = []\n",
    "for item in examp[\"content\"]:\n",
    "    if (item in content_):\n",
    "        continue\n",
    "    else:\n",
    "        content_.append(item)"
   ]
  },
  {
   "cell_type": "code",
   "execution_count": 6,
   "metadata": {},
   "outputs": [
    {
     "name": "stdout",
     "output_type": "stream",
     "text": [
      "[\"This is the content right here. It's arguably the most viral moment of the US star forward's historic World Cup run. And of course, the internet immediately adopted the photo as a meme and symbol of patriotism for an American athlete and activist in her prime.\", 'This is the content right here and it was here. Her epic performance led some to suggest that the United States tear down the Confederate monuments and put up Megan Rapinoe monuments. Others pledged their allegiance to Rapinoe as their new President.']\n"
     ]
    }
   ],
   "source": [
    "print(content_)"
   ]
  },
  {
   "cell_type": "code",
   "execution_count": 7,
   "metadata": {},
   "outputs": [
    {
     "data": {
      "text/plain": [
       "Counter({'This': 1,\n",
       "         'is': 1,\n",
       "         'the': 5,\n",
       "         'content': 1,\n",
       "         'right': 1,\n",
       "         'here': 1,\n",
       "         'It': 1,\n",
       "         's': 2,\n",
       "         'arguably': 1,\n",
       "         'most': 1,\n",
       "         'viral': 1,\n",
       "         'moment': 1,\n",
       "         'of': 3,\n",
       "         'US': 1,\n",
       "         'star': 1,\n",
       "         'forward': 1,\n",
       "         'historic': 1,\n",
       "         'World': 1,\n",
       "         'Cup': 1,\n",
       "         'run': 1,\n",
       "         'And': 1,\n",
       "         'course': 1,\n",
       "         'internet': 1,\n",
       "         'immediately': 1,\n",
       "         'adopted': 1,\n",
       "         'photo': 1,\n",
       "         'as': 1,\n",
       "         'a': 1,\n",
       "         'meme': 1,\n",
       "         'and': 2,\n",
       "         'symbol': 1,\n",
       "         'patriotism': 1,\n",
       "         'for': 1,\n",
       "         'an': 1,\n",
       "         'American': 1,\n",
       "         'athlete': 1,\n",
       "         'activist': 1,\n",
       "         'in': 1,\n",
       "         'her': 1,\n",
       "         'prime': 1})"
      ]
     },
     "execution_count": 7,
     "metadata": {},
     "output_type": "execute_result"
    }
   ],
   "source": [
    "bagsofwords = [ collections.Counter(re.findall(r'\\w+', txt))\n",
    "            for txt in content_]\n",
    "bagsofwords[0]"
   ]
  },
  {
   "cell_type": "code",
   "execution_count": 8,
   "metadata": {},
   "outputs": [
    {
     "name": "stdout",
     "output_type": "stream",
     "text": [
      "[[1 1 0 1 1 3 1 1 1 0 1 1 1 0 0 1 1 1 1 1 1 1 1 1 1 0 0 1 1 0 1 0 3 0 1 0\n",
      "  1 0 0 1 0 0 1 1 0 1 0 0 1 0 0 5 0 1 0 0 0 1 1 0 1]\n",
      " [0 0 1 0 0 2 0 1 0 1 1 0 0 1 1 0 0 1 2 0 0 0 0 1 1 1 1 0 0 2 0 1 0 1 0 1\n",
      "  0 1 1 0 1 2 1 0 1 0 1 1 0 1 1 3 2 1 2 1 1 0 0 1 0]]\n",
      "['activist', 'adopted', 'allegiance', 'american', 'an', 'and', 'arguably', 'as', 'athlete', 'confederate', 'content', 'course', 'cup', 'down', 'epic', 'for', 'forward', 'her', 'here', 'historic', 'immediately', 'in', 'internet', 'is', 'it', 'led', 'megan', 'meme', 'moment', 'monuments', 'most', 'new', 'of', 'others', 'patriotism', 'performance', 'photo', 'pledged', 'president', 'prime', 'put', 'rapinoe', 'right', 'run', 'some', 'star', 'states', 'suggest', 'symbol', 'tear', 'that', 'the', 'their', 'this', 'to', 'united', 'up', 'us', 'viral', 'was', 'world']\n"
     ]
    }
   ],
   "source": [
    "from sklearn.feature_extraction.text import CountVectorizer\n",
    "vectorizer = CountVectorizer()\n",
    "X = vectorizer.fit_transform(content_) \n",
    "print(X.toarray())\n",
    "print(vectorizer.get_feature_names())"
   ]
  },
  {
   "cell_type": "code",
   "execution_count": null,
   "metadata": {},
   "outputs": [],
   "source": []
  }
 ],
 "metadata": {
  "kernelspec": {
   "display_name": "Python 3",
   "language": "python",
   "name": "python3"
  },
  "language_info": {
   "codemirror_mode": {
    "name": "ipython",
    "version": 3
   },
   "file_extension": ".py",
   "mimetype": "text/x-python",
   "name": "python",
   "nbconvert_exporter": "python",
   "pygments_lexer": "ipython3",
   "version": "3.6.8"
  }
 },
 "nbformat": 4,
 "nbformat_minor": 2
}
