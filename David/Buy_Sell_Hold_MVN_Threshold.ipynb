{
 "cells": [
  {
   "cell_type": "code",
   "execution_count": null,
   "metadata": {},
   "outputs": [],
   "source": [
    "import pandas as pd\n",
    "import requests\n",
    "import json\n",
    "import numpy as np\n",
    "import matplotlib.pyplot as plt"
   ]
  },
  {
   "cell_type": "code",
   "execution_count": null,
   "metadata": {},
   "outputs": [],
   "source": [
    "#stock_data=pd.read_csv(\"./stock_data.csv\")\n",
    "stock_data=pd.read_csv(\"./stock_data_all.csv\")"
   ]
  },
  {
   "cell_type": "code",
   "execution_count": null,
   "metadata": {
    "scrolled": false
   },
   "outputs": [],
   "source": [
    "stock_data.shape"
   ]
  },
  {
   "cell_type": "code",
   "execution_count": null,
   "metadata": {},
   "outputs": [],
   "source": [
    "stock_df={}\n",
    "for col in range(stock_data.shape[1]):\n",
    "    if col>0:\n",
    "        stock_df[stock_data.columns[col]]=[]"
   ]
  },
  {
   "cell_type": "code",
   "execution_count": null,
   "metadata": {},
   "outputs": [],
   "source": [
    "means_list=[np.nan]\n",
    "for col in range(stock_data.shape[1]):\n",
    "    if col>0:\n",
    "        dt=stock_data[stock_data.columns[col]][stock_data[stock_data.columns[col]].isnull()==False].reset_index()\n",
    "        colmean=np.mean([float(eval(dt.iloc[i,1])['4. close']) for i in range(dt.shape[0]) ])\n",
    "        means_list.append(colmean)"
   ]
  },
  {
   "cell_type": "code",
   "execution_count": null,
   "metadata": {},
   "outputs": [],
   "source": [
    "for col in range(stock_data.shape[1]):\n",
    "    for row in range(stock_data.shape[0]):\n",
    "        if col>0:\n",
    "            try:\n",
    "                stock_df[stock_data.columns[col]].append(eval(stock_data.iloc[row,col])['4. close'])\n",
    "            except TypeError:\n",
    "                print(f\"{row},{col}\")\n",
    "                #stock_df[stock_data.columns[col]].append(stock_df[stock_data.columns[col]][-1])\n",
    "                stock_df[stock_data.columns[col]].append(means_list[col])"
   ]
  },
  {
   "cell_type": "code",
   "execution_count": null,
   "metadata": {},
   "outputs": [],
   "source": [
    "df=pd.DataFrame(stock_df)\n",
    "\n",
    "df['Date']=stock_data.iloc[:,0]"
   ]
  },
  {
   "cell_type": "code",
   "execution_count": null,
   "metadata": {},
   "outputs": [],
   "source": [
    "df.shape"
   ]
  },
  {
   "cell_type": "code",
   "execution_count": null,
   "metadata": {},
   "outputs": [],
   "source": [
    "df2=pd.melt(df, id_vars=['Date'], value_vars=stock_data.columns[1:])\n",
    "\n",
    "df2=df2.rename(columns={'Date':'Close_Date',\n",
    "             'variable':'Symbol',\n",
    "             'value':'Close_Price'})"
   ]
  },
  {
   "cell_type": "code",
   "execution_count": null,
   "metadata": {},
   "outputs": [],
   "source": [
    "df2['Close_Date']=pd.to_datetime(df2['Close_Date'])\n",
    "\n",
    "df2=df2.sort_values(['Symbol','Close_Date'])\n",
    "\n",
    "df2['Close_Price_Next_Day'] = df2.groupby(['Symbol'])['Close_Price'].shift(-1)\n",
    "\n",
    "df2=df2[df2['Close_Price_Next_Day'].notnull()]\n",
    "\n",
    "df2['Daily_Return']=pd.to_numeric(df2['Close_Price_Next_Day'])/pd.to_numeric(df2['Close_Price'])"
   ]
  },
  {
   "cell_type": "code",
   "execution_count": null,
   "metadata": {},
   "outputs": [],
   "source": [
    "rr_df=df2.pivot(index='Close_Date', columns='Symbol', values='Daily_Return')"
   ]
  },
  {
   "cell_type": "code",
   "execution_count": null,
   "metadata": {},
   "outputs": [],
   "source": [
    "X=[]\n",
    "X_means=[]\n",
    "for col in range(rr_df.shape[1]):\n",
    "    X.append(rr_df.iloc[:,col])\n",
    "    X_means.append(np.mean(rr_df.iloc[:,col]))\n",
    "\n",
    "X=np.array(X)\n",
    "X_means=np.array(X_means)"
   ]
  },
  {
   "cell_type": "code",
   "execution_count": null,
   "metadata": {},
   "outputs": [],
   "source": [
    "nTrials=10000\n",
    "X_rv=np.random.multivariate_normal(X_means, np.cov(X), nTrials).T"
   ]
  },
  {
   "cell_type": "code",
   "execution_count": null,
   "metadata": {},
   "outputs": [],
   "source": [
    "len(X_rv[0])"
   ]
  },
  {
   "cell_type": "code",
   "execution_count": null,
   "metadata": {},
   "outputs": [],
   "source": [
    "check_mean=[]\n",
    "for element in X_rv:\n",
    "    check_mean.append(np.mean(element))    "
   ]
  },
  {
   "cell_type": "code",
   "execution_count": null,
   "metadata": {},
   "outputs": [],
   "source": [
    "simul_df=pd.DataFrame(columns=rr_df.columns)"
   ]
  },
  {
   "cell_type": "code",
   "execution_count": null,
   "metadata": {},
   "outputs": [],
   "source": [
    "for col in range(simul_df.shape[1]):\n",
    "    simul_df.iloc[:,col]=X_rv[col]"
   ]
  },
  {
   "cell_type": "code",
   "execution_count": null,
   "metadata": {},
   "outputs": [],
   "source": [
    "simul_df.shape"
   ]
  },
  {
   "cell_type": "code",
   "execution_count": null,
   "metadata": {},
   "outputs": [],
   "source": [
    "from datetime import datetime, time, timedelta\n"
   ]
  },
  {
   "cell_type": "code",
   "execution_count": null,
   "metadata": {},
   "outputs": [],
   "source": [
    "now = datetime.now()\n",
    "today = datetime.date(now)\n",
    "simul_df['Date']=[(today + timedelta(days=i)) for i in range(simul_df.shape[0])]"
   ]
  },
  {
   "cell_type": "code",
   "execution_count": null,
   "metadata": {},
   "outputs": [],
   "source": [
    "simul_df.head()"
   ]
  },
  {
   "cell_type": "code",
   "execution_count": null,
   "metadata": {},
   "outputs": [],
   "source": [
    "simul_df_melted=simul_df.melt(id_vars='Date',var_name='Symbol', value_name='Daily_Return')"
   ]
  },
  {
   "cell_type": "code",
   "execution_count": null,
   "metadata": {},
   "outputs": [],
   "source": [
    "stock_quantiles={}\n",
    "stock_quantiles['lower_limit']=simul_df_melted.groupby(['Symbol'])['Daily_Return'].quantile(.1)\n",
    "stock_quantiles['upper_limit']=simul_df_melted.groupby(['Symbol'])['Daily_Return'].quantile(.9)\n",
    "quantile_df=pd.DataFrame(stock_quantiles).reset_index()"
   ]
  },
  {
   "cell_type": "code",
   "execution_count": null,
   "metadata": {},
   "outputs": [],
   "source": [
    "simul_clean_df=simul_df_melted.merge(quantile_df, on=['Symbol'], how='left')\n",
    "simul_clean_df['Action_for_News_Date']='Hold'\n",
    "#simul_clean_df.loc[(simul_clean_df['Daily_Return'] >simul_clean_df['lower_limit']) & (simul_clean_df['Daily_Return'] <simul_clean_df['upper_limit']), 'Action_for_News_Date'] = 'Hold'\n",
    "simul_clean_df.loc[(simul_clean_df['Daily_Return'] <=simul_clean_df['lower_limit']), 'Action_for_News_Date'] = 'Sell'\n",
    "simul_clean_df.loc[(simul_clean_df['Daily_Return'] >=simul_clean_df['upper_limit']), 'Action_for_News_Date'] = 'Buy'"
   ]
  },
  {
   "cell_type": "code",
   "execution_count": null,
   "metadata": {},
   "outputs": [],
   "source": [
    "simul_clean_df=simul_clean_df.reset_index()"
   ]
  },
  {
   "cell_type": "code",
   "execution_count": null,
   "metadata": {},
   "outputs": [],
   "source": [
    "simul_clean_df=simul_clean_df[['Date','Symbol','Action_for_News_Date']]\n",
    "\n",
    "simul_clean_df=simul_clean_df.pivot(index='Date',columns='Symbol', values='Action_for_News_Date')\n",
    "\n",
    "simul_clean_df=simul_clean_df.reset_index()"
   ]
  },
  {
   "cell_type": "code",
   "execution_count": null,
   "metadata": {},
   "outputs": [],
   "source": [
    "simul_clean_df.head()"
   ]
  },
  {
   "cell_type": "code",
   "execution_count": null,
   "metadata": {},
   "outputs": [],
   "source": [
    "simul_clean_df.iloc[0,:].value_counts()['Hold']\n",
    "\n",
    "simul_clean_df['Hold']=0\n",
    "simul_clean_df['Buy']=0\n",
    "simul_clean_df['Sell']=0\n",
    "for row in range(simul_clean_df.shape[0]):\n",
    "    hold=0\n",
    "    buy=0\n",
    "    sell=0\n",
    "    for col in range(simul_clean_df.shape[1]):\n",
    "        if (simul_clean_df.iloc[row,col]==\"Hold\"):\n",
    "            hold+=1\n",
    "        elif (simul_clean_df.iloc[row,col]==\"Buy\"):\n",
    "            buy+=1\n",
    "        else:\n",
    "            sell+=1\n",
    "                #simul_clean_df['Hold'][row]=simul_clean_df.iloc[row,:].value_counts()['Hold']\n",
    "        #simul_clean_df['Buy'][row]=simul_clean_df.iloc[row,:].value_counts()['Buy']\n",
    "        #simul_clean_df['Sell'][row]=simul_clean_df.iloc[row,:].value_counts()['Sell']\n",
    "        \n",
    "    simul_clean_df.loc[row,'Hold']=hold\n",
    "    simul_clean_df.loc[row,'Buy']=buy\n",
    "    simul_clean_df.loc[row,'Sell']=sell"
   ]
  },
  {
   "cell_type": "code",
   "execution_count": null,
   "metadata": {},
   "outputs": [],
   "source": [
    "simul_clean_df.head()"
   ]
  },
  {
   "cell_type": "code",
   "execution_count": null,
   "metadata": {},
   "outputs": [],
   "source": [
    "simul_clean_df.head()"
   ]
  },
  {
   "cell_type": "code",
   "execution_count": null,
   "metadata": {},
   "outputs": [],
   "source": [
    "#plt.hist(simul_clean_df['Buy'], bins = 100)\n",
    "plt.scatter(simul_clean_df['Buy'],simul_clean_df['Sell'])"
   ]
  },
  {
   "cell_type": "code",
   "execution_count": null,
   "metadata": {},
   "outputs": [],
   "source": [
    "decision_boundary_df=simul_clean_df.copy(deep=True)\n",
    "decision_boundary_df['Buy']=(decision_boundary_df['Buy']//2)*2\n",
    "decision_boundary_df['Sell']=(decision_boundary_df['Sell']//2)*2"
   ]
  },
  {
   "cell_type": "code",
   "execution_count": null,
   "metadata": {},
   "outputs": [],
   "source": [
    "ds_df=pd.DataFrame()\n",
    "ds_df['sell_q_0.90']=simul_clean_df.groupby(['Buy'])['Sell'].quantile(.90)"
   ]
  },
  {
   "cell_type": "code",
   "execution_count": null,
   "metadata": {},
   "outputs": [],
   "source": [
    "ds_df=ds_df.reset_index()"
   ]
  },
  {
   "cell_type": "code",
   "execution_count": null,
   "metadata": {},
   "outputs": [],
   "source": [
    "ds_df.head()"
   ]
  },
  {
   "cell_type": "code",
   "execution_count": null,
   "metadata": {},
   "outputs": [],
   "source": [
    "db_df=pd.DataFrame()\n",
    "db_df['buy_q_0.90']=simul_clean_df.groupby(['Sell'])['Buy'].quantile(.90)\n",
    "db_df=db_df.reset_index()\n",
    "db_df.head()"
   ]
  },
  {
   "cell_type": "code",
   "execution_count": null,
   "metadata": {},
   "outputs": [],
   "source": [
    "decision_boundary_df.head()"
   ]
  },
  {
   "cell_type": "code",
   "execution_count": null,
   "metadata": {},
   "outputs": [],
   "source": [
    "decision_boundary_df=decision_boundary_df.merge(db_df, on=['Sell'], how='left')"
   ]
  },
  {
   "cell_type": "code",
   "execution_count": null,
   "metadata": {},
   "outputs": [],
   "source": [
    "decision_boundary_df=decision_boundary_df.merge(ds_df, on=['Buy'], how='left')"
   ]
  },
  {
   "cell_type": "code",
   "execution_count": null,
   "metadata": {},
   "outputs": [],
   "source": [
    "decision_boundary_df.head()"
   ]
  },
  {
   "cell_type": "code",
   "execution_count": null,
   "metadata": {},
   "outputs": [],
   "source": [
    "decision_boundary_df['Action_for_News_Date']=\"Hold\""
   ]
  },
  {
   "cell_type": "code",
   "execution_count": null,
   "metadata": {},
   "outputs": [],
   "source": [
    "decision_boundary_df.loc[decision_boundary_df['Buy']>=decision_boundary_df['buy_q_0.90'],'Action_for_News_Date']=\"Buy\"\n",
    "decision_boundary_df.loc[decision_boundary_df['Sell']>=decision_boundary_df['sell_q_0.90'],'Action_for_News_Date']=\"Sell\""
   ]
  },
  {
   "cell_type": "code",
   "execution_count": null,
   "metadata": {},
   "outputs": [],
   "source": [
    "db_df.to_csv(\"Data/Conditional_Buy_Quantile.csv\")\n",
    "ds_df.to_csv(\"Data/Conditional_Sell_Quantile.csv\")\n"
   ]
  },
  {
   "cell_type": "code",
   "execution_count": null,
   "metadata": {},
   "outputs": [],
   "source": []
  },
  {
   "cell_type": "code",
   "execution_count": null,
   "metadata": {},
   "outputs": [],
   "source": []
  },
  {
   "cell_type": "code",
   "execution_count": null,
   "metadata": {},
   "outputs": [],
   "source": []
  }
 ],
 "metadata": {
  "kernelspec": {
   "display_name": "Python 3",
   "language": "python",
   "name": "python3"
  },
  "language_info": {
   "codemirror_mode": {
    "name": "ipython",
    "version": 3
   },
   "file_extension": ".py",
   "mimetype": "text/x-python",
   "name": "python",
   "nbconvert_exporter": "python",
   "pygments_lexer": "ipython3",
   "version": "3.7.0"
  }
 },
 "nbformat": 4,
 "nbformat_minor": 2
}
