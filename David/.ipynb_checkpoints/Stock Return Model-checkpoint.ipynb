{
 "cells": [
  {
   "cell_type": "markdown",
   "metadata": {},
   "source": [
    "# Source:https://nbviewer.jupyter.org/url/xweb.geos.ed.ac.uk/~jsteven5/blog/lognormal_distributions.ipynb"
   ]
  },
  {
   "cell_type": "code",
   "execution_count": null,
   "metadata": {},
   "outputs": [],
   "source": [
    "from scipy import stats # Import the scipy.stats module\n",
    "\n",
    "# Definitions of different parameters. (float() used to avoid problems with Python integer division)\n",
    "M = float(4) # Geometric mean == median\n",
    "s = float(2) # Geometric standard deviation\n",
    "mu = np.log(M) # Mean of log(X)\n",
    "sigma = np.log(s) # Standard deviation of log(X)\n",
    "shape = sigma # Scipy's shape parameter\n",
    "scale = np.exp(mu) # Scipy's scale parameter\n",
    "median = np.exp(mu)\n",
    "mode = np.exp(mu - sigma**2) # Note that mode depends on both M and s\n",
    "mean = np.exp(mu + (sigma**2/2)) # Note that mean depends on both M and s\n",
    "x = np.linspace(0.1, 25, num=400) # values for x-axis\n",
    "pdf = stats.lognorm.pdf(x, shape, loc=0, scale=scale) # probability distribution\n",
    "\n",
    "plt.figure(figsize=(12,4.5))\n",
    "# Figure on linear scale\n",
    "plt.subplot(121)\n",
    "plt.plot(x, pdf)\n",
    "plt.fill_between(x, pdf, where=(x < M/s), alpha=0.15)\n",
    "plt.fill_between(x, pdf, where=(x > M*s), alpha=0.15)\n",
    "plt.fill_between(x, pdf, where=(x < M/s**2), alpha=0.15)\n",
    "plt.fill_between(x, pdf, where=(x > M*s**2), alpha=0.15)\n",
    "plt.vlines(mode, 0, pdf.max(), linestyle=':', label='Mode')\n",
    "plt.vlines(mean, 0, stats.lognorm.pdf(mean, shape, loc=0, scale=scale), linestyle='--', color='green', label='Mean')\n",
    "plt.vlines(median, 0, stats.lognorm.pdf(median, shape, loc=0, scale=scale), color='blue', label='Median')\n",
    "plt.ylim(ymin=0)\n",
    "plt.xlabel('Radius (microns)')\n",
    "plt.title('Linear scale')\n",
    "leg=plt.legend()\n",
    "\n",
    "# Figure on logarithmic scale\n",
    "plt.subplot(122)\n",
    "plt.semilogx(x, pdf)\n",
    "plt.fill_between(x, pdf, where=(x < M/s), alpha=0.15)\n",
    "plt.fill_between(x, pdf, where=(x > M*s), alpha=0.15)\n",
    "plt.fill_between(x, pdf, where=(x < M/s**2), alpha=0.15)\n",
    "plt.fill_between(x, pdf, where=(x > M*s**2), alpha=0.15)\n",
    "plt.vlines(mode, 0, pdf.max(), linestyle=':', label='Mode')\n",
    "plt.vlines(mean, 0, stats.lognorm.pdf(mean, shape, loc=0, scale=scale), linestyle='--', color='green', label='Mean')\n",
    "plt.vlines(median, 0, stats.lognorm.pdf(median, shape, loc=0, scale=scale), color='blue', label='Median')\n",
    "plt.ylim(ymin=0)\n",
    "plt.xlabel('Radius (microns)')\n",
    "plt.title('Logarithmic scale')\n",
    "leg=plt.legend()"
   ]
  },
  {
   "cell_type": "markdown",
   "metadata": {},
   "source": [
    "### Fitting a lognormal distribution"
   ]
  },
  {
   "cell_type": "code",
   "execution_count": null,
   "metadata": {},
   "outputs": [],
   "source": [
    "rvs = stats.lognorm.rvs(np.log(2), loc=0, scale=4, size=250) # Generate some random variates as data\n",
    "n, bins, patches = plt.hist(rvs, bins=25, normed=True) # Plot histogram\n",
    "\n",
    "shape, loc, scale = stats.lognorm.fit(rvs, floc=0) # Fit a curve to the variates\n",
    "mu = np.log(scale) # Mean of log(X)\n",
    "sigma = shape # Standard deviation of log(X)\n",
    "M = np.exp(mu) # Geometric mean == median\n",
    "s = np.exp(sigma) # Geometric standard deviation\n",
    "\n",
    "# Plot figure of results\n",
    "x = np.linspace(rvs.min(), rvs.max(), num=400)\n",
    "plt.plot(x, stats.lognorm.pdf(x, shape, loc=0, scale=scale), 'r', linewidth=3) # Plot fitted curve\n",
    "ax = plt.gca() # Get axis handle for text positioning\n",
    "txt = plt.text(0.9, 0.9, 'M = %.2f\\ns = %.2f' % (M, s), horizontalalignment='right', \n",
    "                size='large', verticalalignment='top', transform=ax.transAxes)"
   ]
  },
  {
   "cell_type": "markdown",
   "metadata": {},
   "source": [
    "### Confidence Intervals"
   ]
  },
  {
   "cell_type": "code",
   "execution_count": null,
   "metadata": {},
   "outputs": [],
   "source": [
    "# Definitions of different parameters\n",
    "M = float(4) # Geometric mean == median\n",
    "s = float(2) # Geometric standard deviation\n",
    "mu = np.log(M) # Mean of log(X)\n",
    "sigma = np.log(s) # Standard deviation of log(X)\n",
    "shape = sigma # Scipy's shape parameter\n",
    "scale = np.exp(mu) # Scipy's scale parameter\n",
    "\n",
    "print \"From geometric mean and standard deviation\"\n",
    "print \"68.3%% of distribution between %.2f and %.2f\" % (M/s, M*s) # multiply and divide, not +/-\n",
    "print \"95.5%% of distribution between %.2f and %.2f\" % (M/s**2, M*s**2) # note s squared \n",
    "print \"99.7%% of distribution between %.2f and %.2f\" % (M/s**3, M*s**3) # note s cubed\n",
    "\n",
    "# scipy.stats.lognorm also has a builtin function for calculating intervals\n",
    "print\n",
    "print \"From stats.lognorm.interval\"\n",
    "print \"68.3%: \", stats.lognorm.interval(0.683, shape, loc=0, scale=scale)\n",
    "print \"95.5%: \", stats.lognorm.interval(0.955, shape, loc=0, scale=scale)\n",
    "print \"99.7%: \", stats.lognorm.interval(0.997, shape, loc=0, scale=scale)\n",
    "From geometric mean and standard deviation\n",
    "68.3% of distribution between 2.00 and 8.00\n",
    "95.5% of distribution between 1.00 and 16.00\n",
    "99.7% of distribution between 0.50 and 32.00\n",
    "\n",
    "From stats.lognorm.interval\n",
    "68.3%:  (1.9991104342962782, 8.0035598461734203)\n",
    "95.5%:  (0.99677897162877904, 16.051702990739596)\n",
    "99.7%:  (0.51130713903753477, 31.292346181822669)"
   ]
  }
 ],
 "metadata": {
  "kernelspec": {
   "display_name": "Python 3",
   "language": "python",
   "name": "python3"
  },
  "language_info": {
   "codemirror_mode": {
    "name": "ipython",
    "version": 3
   },
   "file_extension": ".py",
   "mimetype": "text/x-python",
   "name": "python",
   "nbconvert_exporter": "python",
   "pygments_lexer": "ipython3",
   "version": "3.7.0"
  }
 },
 "nbformat": 4,
 "nbformat_minor": 2
}
