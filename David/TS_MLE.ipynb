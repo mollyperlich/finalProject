{
 "cells": [
  {
   "cell_type": "code",
   "execution_count": 254,
   "metadata": {},
   "outputs": [],
   "source": [
    "import pandas as pd\n",
    "import requests\n",
    "import json\n",
    "import numpy as np"
   ]
  },
  {
   "cell_type": "code",
   "execution_count": 255,
   "metadata": {},
   "outputs": [],
   "source": [
    "#stock_data=pd.read_csv(\"./stock_data.csv\")\n",
    "stock_data=pd.read_csv(\"./stock_data_all.csv\")"
   ]
  },
  {
   "cell_type": "code",
   "execution_count": 256,
   "metadata": {},
   "outputs": [
    {
     "data": {
      "text/html": [
       "<div>\n",
       "<style scoped>\n",
       "    .dataframe tbody tr th:only-of-type {\n",
       "        vertical-align: middle;\n",
       "    }\n",
       "\n",
       "    .dataframe tbody tr th {\n",
       "        vertical-align: top;\n",
       "    }\n",
       "\n",
       "    .dataframe thead th {\n",
       "        text-align: right;\n",
       "    }\n",
       "</style>\n",
       "<table border=\"1\" class=\"dataframe\">\n",
       "  <thead>\n",
       "    <tr style=\"text-align: right;\">\n",
       "      <th></th>\n",
       "      <th>Unnamed: 0</th>\n",
       "      <th>AMAT</th>\n",
       "      <th>AAPL</th>\n",
       "      <th>CSPI</th>\n",
       "      <th>ALOT</th>\n",
       "      <th>CAMP</th>\n",
       "      <th>KTCC</th>\n",
       "      <th>RELL</th>\n",
       "      <th>LRCX</th>\n",
       "      <th>MGRC</th>\n",
       "      <th>...</th>\n",
       "      <th>VUZI</th>\n",
       "      <th>WSTG</th>\n",
       "      <th>WDC</th>\n",
       "      <th>WYY</th>\n",
       "      <th>WIT</th>\n",
       "      <th>WDAY</th>\n",
       "      <th>WPP</th>\n",
       "      <th>XRX</th>\n",
       "      <th>XPER</th>\n",
       "      <th>ZIXI</th>\n",
       "    </tr>\n",
       "  </thead>\n",
       "  <tbody>\n",
       "    <tr>\n",
       "      <th>0</th>\n",
       "      <td>8/8/2016</td>\n",
       "      <td>{'1. open': '26.8500', '2. high': '26.9200', '...</td>\n",
       "      <td>{'1. open': '107.5200', '2. high': '108.3700',...</td>\n",
       "      <td>{'1. open': '8.4500', '2. high': '8.9200', '3....</td>\n",
       "      <td>{'1. open': '16.0000', '2. high': '16.1500', '...</td>\n",
       "      <td>{'1. open': '15.1500', '2. high': '15.5300', '...</td>\n",
       "      <td>{'1. open': '7.5500', '2. high': '7.7700', '3....</td>\n",
       "      <td>{'1. open': '6.2000', '2. high': '6.2400', '3....</td>\n",
       "      <td>{'1. open': '93.1600', '2. high': '93.3000', '...</td>\n",
       "      <td>{'1. open': '31.4200', '2. high': '31.6500', '...</td>\n",
       "      <td>...</td>\n",
       "      <td>NaN</td>\n",
       "      <td>NaN</td>\n",
       "      <td>NaN</td>\n",
       "      <td>NaN</td>\n",
       "      <td>NaN</td>\n",
       "      <td>NaN</td>\n",
       "      <td>NaN</td>\n",
       "      <td>NaN</td>\n",
       "      <td>{'1. open': '5.7600', '2. high': '6.2000', '3....</td>\n",
       "      <td>NaN</td>\n",
       "    </tr>\n",
       "    <tr>\n",
       "      <th>1</th>\n",
       "      <td>8/9/2016</td>\n",
       "      <td>{'1. open': '26.9500', '2. high': '26.9500', '...</td>\n",
       "      <td>{'1. open': '108.2300', '2. high': '108.9400',...</td>\n",
       "      <td>{'1. open': '8.8000', '2. high': '8.8000', '3....</td>\n",
       "      <td>{'1. open': '15.7800', '2. high': '16.1500', '...</td>\n",
       "      <td>{'1. open': '15.4500', '2. high': '15.7100', '...</td>\n",
       "      <td>{'1. open': '7.8200', '2. high': '7.8200', '3....</td>\n",
       "      <td>{'1. open': '6.1600', '2. high': '6.2300', '3....</td>\n",
       "      <td>{'1. open': '92.9700', '2. high': '93.4510', '...</td>\n",
       "      <td>{'1. open': '31.3100', '2. high': '31.5350', '...</td>\n",
       "      <td>...</td>\n",
       "      <td>{'1. open': '70.4200', '2. high': '70.8500', '...</td>\n",
       "      <td>{'1. open': '20.2600', '2. high': '20.3800', '...</td>\n",
       "      <td>{'1. open': '122.1300', '2. high': '122.8600',...</td>\n",
       "      <td>{'1. open': '15.6300', '2. high': '15.7000', '...</td>\n",
       "      <td>{'1. open': '11.3833', '2. high': '11.6500', '...</td>\n",
       "      <td>{'1. open': '3.4001', '2. high': '3.4800', '3....</td>\n",
       "      <td>{'1. open': '62.0200', '2. high': '62.3000', '...</td>\n",
       "      <td>{'1. open': '22.2400', '2. high': '22.4000', '...</td>\n",
       "      <td>{'1. open': '6.1000', '2. high': '6.3000', '3....</td>\n",
       "      <td>{'1. open': '31.2900', '2. high': '31.3700', '...</td>\n",
       "    </tr>\n",
       "    <tr>\n",
       "      <th>2</th>\n",
       "      <td>8/10/2016</td>\n",
       "      <td>{'1. open': '26.8000', '2. high': '26.8600', '...</td>\n",
       "      <td>{'1. open': '108.7100', '2. high': '108.9000',...</td>\n",
       "      <td>{'1. open': '8.8400', '2. high': '8.9200', '3....</td>\n",
       "      <td>{'1. open': '16.1500', '2. high': '16.1500', '...</td>\n",
       "      <td>{'1. open': '15.4400', '2. high': '15.6200', '...</td>\n",
       "      <td>{'1. open': '7.6100', '2. high': '7.6700', '3....</td>\n",
       "      <td>{'1. open': '6.2500', '2. high': '6.2500', '3....</td>\n",
       "      <td>{'1. open': '93.0600', '2. high': '93.1900', '...</td>\n",
       "      <td>{'1. open': '30.7900', '2. high': '31.3850', '...</td>\n",
       "      <td>...</td>\n",
       "      <td>{'1. open': '70.2300', '2. high': '70.3100', '...</td>\n",
       "      <td>{'1. open': '20.2600', '2. high': '20.2800', '...</td>\n",
       "      <td>{'1. open': '121.8800', '2. high': '123.4500',...</td>\n",
       "      <td>{'1. open': '15.6100', '2. high': '16.0700', '...</td>\n",
       "      <td>{'1. open': '11.6300', '2. high': '11.6500', '...</td>\n",
       "      <td>{'1. open': '3.4700', '2. high': '3.4700', '3....</td>\n",
       "      <td>{'1. open': '61.1800', '2. high': '61.6600', '...</td>\n",
       "      <td>{'1. open': '22.0200', '2. high': '22.2200', '...</td>\n",
       "      <td>{'1. open': '5.9601', '2. high': '6.1400', '3....</td>\n",
       "      <td>{'1. open': '27.6200', '2. high': '27.9400', '...</td>\n",
       "    </tr>\n",
       "    <tr>\n",
       "      <th>3</th>\n",
       "      <td>8/11/2016</td>\n",
       "      <td>{'1. open': '26.5600', '2. high': '26.9900', '...</td>\n",
       "      <td>{'1. open': '108.5200', '2. high': '108.9300',...</td>\n",
       "      <td>{'1. open': '8.9300', '2. high': '8.9620', '3....</td>\n",
       "      <td>{'1. open': '16.2500', '2. high': '16.4100', '...</td>\n",
       "      <td>{'1. open': '15.4300', '2. high': '15.5500', '...</td>\n",
       "      <td>{'1. open': '7.5440', '2. high': '7.5700', '3....</td>\n",
       "      <td>{'1. open': '6.1600', '2. high': '6.3000', '3....</td>\n",
       "      <td>{'1. open': '89.1500', '2. high': '89.8700', '...</td>\n",
       "      <td>{'1. open': '31.1900', '2. high': '31.4800', '...</td>\n",
       "      <td>...</td>\n",
       "      <td>{'1. open': '70.0000', '2. high': '70.2000', '...</td>\n",
       "      <td>{'1. open': '20.3600', '2. high': '20.3600', '...</td>\n",
       "      <td>{'1. open': '134.3100', '2. high': '140.9800',...</td>\n",
       "      <td>{'1. open': '16.0200', '2. high': '16.7200', '...</td>\n",
       "      <td>{'1. open': '11.6800', '2. high': '11.6800', '...</td>\n",
       "      <td>{'1. open': '3.4000', '2. high': '3.4700', '3....</td>\n",
       "      <td>{'1. open': '61.2600', '2. high': '62.0000', '...</td>\n",
       "      <td>{'1. open': '22.2000', '2. high': '22.4700', '...</td>\n",
       "      <td>{'1. open': '5.9133', '2. high': '5.9850', '3....</td>\n",
       "      <td>{'1. open': '27.0800', '2. high': '27.3101', '...</td>\n",
       "    </tr>\n",
       "    <tr>\n",
       "      <th>4</th>\n",
       "      <td>8/12/2016</td>\n",
       "      <td>{'1. open': '26.8600', '2. high': '27.2200', '...</td>\n",
       "      <td>{'1. open': '107.7800', '2. high': '108.4400',...</td>\n",
       "      <td>{'1. open': '8.7700', '2. high': '8.9200', '3....</td>\n",
       "      <td>{'1. open': '16.4000', '2. high': '16.4000', '...</td>\n",
       "      <td>{'1. open': '15.3900', '2. high': '15.6200', '...</td>\n",
       "      <td>{'1. open': '7.4300', '2. high': '7.5200', '3....</td>\n",
       "      <td>{'1. open': '6.1400', '2. high': '6.3000', '3....</td>\n",
       "      <td>{'1. open': '89.0600', '2. high': '90.1900', '...</td>\n",
       "      <td>{'1. open': '31.3000', '2. high': '31.4500', '...</td>\n",
       "      <td>...</td>\n",
       "      <td>{'1. open': '70.0000', '2. high': '70.2200', '...</td>\n",
       "      <td>{'1. open': '20.3053', '2. high': '20.3700', '...</td>\n",
       "      <td>{'1. open': '132.1400', '2. high': '132.6000',...</td>\n",
       "      <td>{'1. open': '17.5700', '2. high': '17.5700', '...</td>\n",
       "      <td>{'1. open': '10.9700', '2. high': '11.1800', '...</td>\n",
       "      <td>{'1. open': '3.4648', '2. high': '3.4868', '3....</td>\n",
       "      <td>{'1. open': '61.3100', '2. high': '61.9500', '...</td>\n",
       "      <td>{'1. open': '22.3700', '2. high': '22.5200', '...</td>\n",
       "      <td>{'1. open': '5.7500', '2. high': '5.7500', '3....</td>\n",
       "      <td>{'1. open': '27.0800', '2. high': '27.5400', '...</td>\n",
       "    </tr>\n",
       "  </tbody>\n",
       "</table>\n",
       "<p>5 rows × 576 columns</p>\n",
       "</div>"
      ],
      "text/plain": [
       "  Unnamed: 0                                               AMAT  \\\n",
       "0   8/8/2016  {'1. open': '26.8500', '2. high': '26.9200', '...   \n",
       "1   8/9/2016  {'1. open': '26.9500', '2. high': '26.9500', '...   \n",
       "2  8/10/2016  {'1. open': '26.8000', '2. high': '26.8600', '...   \n",
       "3  8/11/2016  {'1. open': '26.5600', '2. high': '26.9900', '...   \n",
       "4  8/12/2016  {'1. open': '26.8600', '2. high': '27.2200', '...   \n",
       "\n",
       "                                                AAPL  \\\n",
       "0  {'1. open': '107.5200', '2. high': '108.3700',...   \n",
       "1  {'1. open': '108.2300', '2. high': '108.9400',...   \n",
       "2  {'1. open': '108.7100', '2. high': '108.9000',...   \n",
       "3  {'1. open': '108.5200', '2. high': '108.9300',...   \n",
       "4  {'1. open': '107.7800', '2. high': '108.4400',...   \n",
       "\n",
       "                                                CSPI  \\\n",
       "0  {'1. open': '8.4500', '2. high': '8.9200', '3....   \n",
       "1  {'1. open': '8.8000', '2. high': '8.8000', '3....   \n",
       "2  {'1. open': '8.8400', '2. high': '8.9200', '3....   \n",
       "3  {'1. open': '8.9300', '2. high': '8.9620', '3....   \n",
       "4  {'1. open': '8.7700', '2. high': '8.9200', '3....   \n",
       "\n",
       "                                                ALOT  \\\n",
       "0  {'1. open': '16.0000', '2. high': '16.1500', '...   \n",
       "1  {'1. open': '15.7800', '2. high': '16.1500', '...   \n",
       "2  {'1. open': '16.1500', '2. high': '16.1500', '...   \n",
       "3  {'1. open': '16.2500', '2. high': '16.4100', '...   \n",
       "4  {'1. open': '16.4000', '2. high': '16.4000', '...   \n",
       "\n",
       "                                                CAMP  \\\n",
       "0  {'1. open': '15.1500', '2. high': '15.5300', '...   \n",
       "1  {'1. open': '15.4500', '2. high': '15.7100', '...   \n",
       "2  {'1. open': '15.4400', '2. high': '15.6200', '...   \n",
       "3  {'1. open': '15.4300', '2. high': '15.5500', '...   \n",
       "4  {'1. open': '15.3900', '2. high': '15.6200', '...   \n",
       "\n",
       "                                                KTCC  \\\n",
       "0  {'1. open': '7.5500', '2. high': '7.7700', '3....   \n",
       "1  {'1. open': '7.8200', '2. high': '7.8200', '3....   \n",
       "2  {'1. open': '7.6100', '2. high': '7.6700', '3....   \n",
       "3  {'1. open': '7.5440', '2. high': '7.5700', '3....   \n",
       "4  {'1. open': '7.4300', '2. high': '7.5200', '3....   \n",
       "\n",
       "                                                RELL  \\\n",
       "0  {'1. open': '6.2000', '2. high': '6.2400', '3....   \n",
       "1  {'1. open': '6.1600', '2. high': '6.2300', '3....   \n",
       "2  {'1. open': '6.2500', '2. high': '6.2500', '3....   \n",
       "3  {'1. open': '6.1600', '2. high': '6.3000', '3....   \n",
       "4  {'1. open': '6.1400', '2. high': '6.3000', '3....   \n",
       "\n",
       "                                                LRCX  \\\n",
       "0  {'1. open': '93.1600', '2. high': '93.3000', '...   \n",
       "1  {'1. open': '92.9700', '2. high': '93.4510', '...   \n",
       "2  {'1. open': '93.0600', '2. high': '93.1900', '...   \n",
       "3  {'1. open': '89.1500', '2. high': '89.8700', '...   \n",
       "4  {'1. open': '89.0600', '2. high': '90.1900', '...   \n",
       "\n",
       "                                                MGRC  \\\n",
       "0  {'1. open': '31.4200', '2. high': '31.6500', '...   \n",
       "1  {'1. open': '31.3100', '2. high': '31.5350', '...   \n",
       "2  {'1. open': '30.7900', '2. high': '31.3850', '...   \n",
       "3  {'1. open': '31.1900', '2. high': '31.4800', '...   \n",
       "4  {'1. open': '31.3000', '2. high': '31.4500', '...   \n",
       "\n",
       "                         ...                          \\\n",
       "0                        ...                           \n",
       "1                        ...                           \n",
       "2                        ...                           \n",
       "3                        ...                           \n",
       "4                        ...                           \n",
       "\n",
       "                                                VUZI  \\\n",
       "0                                                NaN   \n",
       "1  {'1. open': '70.4200', '2. high': '70.8500', '...   \n",
       "2  {'1. open': '70.2300', '2. high': '70.3100', '...   \n",
       "3  {'1. open': '70.0000', '2. high': '70.2000', '...   \n",
       "4  {'1. open': '70.0000', '2. high': '70.2200', '...   \n",
       "\n",
       "                                                WSTG  \\\n",
       "0                                                NaN   \n",
       "1  {'1. open': '20.2600', '2. high': '20.3800', '...   \n",
       "2  {'1. open': '20.2600', '2. high': '20.2800', '...   \n",
       "3  {'1. open': '20.3600', '2. high': '20.3600', '...   \n",
       "4  {'1. open': '20.3053', '2. high': '20.3700', '...   \n",
       "\n",
       "                                                 WDC  \\\n",
       "0                                                NaN   \n",
       "1  {'1. open': '122.1300', '2. high': '122.8600',...   \n",
       "2  {'1. open': '121.8800', '2. high': '123.4500',...   \n",
       "3  {'1. open': '134.3100', '2. high': '140.9800',...   \n",
       "4  {'1. open': '132.1400', '2. high': '132.6000',...   \n",
       "\n",
       "                                                 WYY  \\\n",
       "0                                                NaN   \n",
       "1  {'1. open': '15.6300', '2. high': '15.7000', '...   \n",
       "2  {'1. open': '15.6100', '2. high': '16.0700', '...   \n",
       "3  {'1. open': '16.0200', '2. high': '16.7200', '...   \n",
       "4  {'1. open': '17.5700', '2. high': '17.5700', '...   \n",
       "\n",
       "                                                 WIT  \\\n",
       "0                                                NaN   \n",
       "1  {'1. open': '11.3833', '2. high': '11.6500', '...   \n",
       "2  {'1. open': '11.6300', '2. high': '11.6500', '...   \n",
       "3  {'1. open': '11.6800', '2. high': '11.6800', '...   \n",
       "4  {'1. open': '10.9700', '2. high': '11.1800', '...   \n",
       "\n",
       "                                                WDAY  \\\n",
       "0                                                NaN   \n",
       "1  {'1. open': '3.4001', '2. high': '3.4800', '3....   \n",
       "2  {'1. open': '3.4700', '2. high': '3.4700', '3....   \n",
       "3  {'1. open': '3.4000', '2. high': '3.4700', '3....   \n",
       "4  {'1. open': '3.4648', '2. high': '3.4868', '3....   \n",
       "\n",
       "                                                 WPP  \\\n",
       "0                                                NaN   \n",
       "1  {'1. open': '62.0200', '2. high': '62.3000', '...   \n",
       "2  {'1. open': '61.1800', '2. high': '61.6600', '...   \n",
       "3  {'1. open': '61.2600', '2. high': '62.0000', '...   \n",
       "4  {'1. open': '61.3100', '2. high': '61.9500', '...   \n",
       "\n",
       "                                                 XRX  \\\n",
       "0                                                NaN   \n",
       "1  {'1. open': '22.2400', '2. high': '22.4000', '...   \n",
       "2  {'1. open': '22.0200', '2. high': '22.2200', '...   \n",
       "3  {'1. open': '22.2000', '2. high': '22.4700', '...   \n",
       "4  {'1. open': '22.3700', '2. high': '22.5200', '...   \n",
       "\n",
       "                                                XPER  \\\n",
       "0  {'1. open': '5.7600', '2. high': '6.2000', '3....   \n",
       "1  {'1. open': '6.1000', '2. high': '6.3000', '3....   \n",
       "2  {'1. open': '5.9601', '2. high': '6.1400', '3....   \n",
       "3  {'1. open': '5.9133', '2. high': '5.9850', '3....   \n",
       "4  {'1. open': '5.7500', '2. high': '5.7500', '3....   \n",
       "\n",
       "                                                ZIXI  \n",
       "0                                                NaN  \n",
       "1  {'1. open': '31.2900', '2. high': '31.3700', '...  \n",
       "2  {'1. open': '27.6200', '2. high': '27.9400', '...  \n",
       "3  {'1. open': '27.0800', '2. high': '27.3101', '...  \n",
       "4  {'1. open': '27.0800', '2. high': '27.5400', '...  \n",
       "\n",
       "[5 rows x 576 columns]"
      ]
     },
     "execution_count": 256,
     "metadata": {},
     "output_type": "execute_result"
    }
   ],
   "source": [
    "stock_data.head()"
   ]
  },
  {
   "cell_type": "code",
   "execution_count": 257,
   "metadata": {
    "scrolled": false
   },
   "outputs": [],
   "source": [
    "stock_data=stock_data.iloc[:,[0,2]]"
   ]
  },
  {
   "cell_type": "code",
   "execution_count": 258,
   "metadata": {},
   "outputs": [],
   "source": [
    "stock_df={}\n",
    "for col in range(stock_data.shape[1]):\n",
    "    if col>0:\n",
    "        stock_df[stock_data.columns[col]]=[]"
   ]
  },
  {
   "cell_type": "code",
   "execution_count": 259,
   "metadata": {},
   "outputs": [],
   "source": [
    "means_list=[np.nan]\n",
    "for col in range(stock_data.shape[1]):\n",
    "    if col>0:\n",
    "        dt=stock_data[stock_data.columns[col]][stock_data[stock_data.columns[col]].isnull()==False].reset_index()\n",
    "        colmean=np.mean([float(eval(dt.iloc[i,1])['4. close']) for i in range(dt.shape[0]) ])\n",
    "        means_list.append(colmean)"
   ]
  },
  {
   "cell_type": "code",
   "execution_count": 260,
   "metadata": {},
   "outputs": [],
   "source": [
    "for col in range(stock_data.shape[1]):\n",
    "    for row in range(stock_data.shape[0]):\n",
    "        if col>0:\n",
    "            try:\n",
    "                stock_df[stock_data.columns[col]].append(eval(stock_data.iloc[row,col])['4. close'])\n",
    "            except TypeError:\n",
    "                print(f\"{row},{col}\")\n",
    "                #stock_df[stock_data.columns[col]].append(stock_df[stock_data.columns[col]][-1])\n",
    "                stock_df[stock_data.columns[col]].append(means_list[col])"
   ]
  },
  {
   "cell_type": "code",
   "execution_count": 261,
   "metadata": {},
   "outputs": [],
   "source": [
    "df=pd.DataFrame(stock_df)\n",
    "\n",
    "df['Date']=stock_data.iloc[:,0]"
   ]
  },
  {
   "cell_type": "code",
   "execution_count": 262,
   "metadata": {},
   "outputs": [
    {
     "data": {
      "text/plain": [
       "(730, 2)"
      ]
     },
     "execution_count": 262,
     "metadata": {},
     "output_type": "execute_result"
    }
   ],
   "source": [
    "df.shape"
   ]
  },
  {
   "cell_type": "code",
   "execution_count": 270,
   "metadata": {},
   "outputs": [],
   "source": [
    "df2=pd.melt(df, id_vars=['Date'], value_vars=stock_data.columns[1:])\n",
    "\n",
    "df2=df2.rename(columns={'Date':'Close_Date',\n",
    "             'variable':'Symbol',\n",
    "             'value':'Close_Price'})"
   ]
  },
  {
   "cell_type": "code",
   "execution_count": 271,
   "metadata": {},
   "outputs": [],
   "source": [
    "df2['Close_Date']=pd.to_datetime(df2['Close_Date'])\n",
    "\n",
    "df2=df2.sort_values(['Symbol','Close_Date'])\n",
    "\n",
    "df2['Close_Price_Next_Day'] = df2.groupby(['Symbol'])['Close_Price'].shift(-1)\n",
    "\n",
    "df2=df2[df2['Close_Price_Next_Day'].notnull()]\n",
    "\n",
    "df2['Daily_Return']=pd.to_numeric(df2['Close_Price_Next_Day'])/pd.to_numeric(df2['Close_Price'])"
   ]
  },
  {
   "cell_type": "code",
   "execution_count": 279,
   "metadata": {},
   "outputs": [],
   "source": [
    "data=df2.copy(deep=True)[['Close_Date','Daily_Return']]"
   ]
  },
  {
   "cell_type": "code",
   "execution_count": 310,
   "metadata": {},
   "outputs": [
    {
     "data": {
      "text/html": [
       "<div>\n",
       "<style scoped>\n",
       "    .dataframe tbody tr th:only-of-type {\n",
       "        vertical-align: middle;\n",
       "    }\n",
       "\n",
       "    .dataframe tbody tr th {\n",
       "        vertical-align: top;\n",
       "    }\n",
       "\n",
       "    .dataframe thead th {\n",
       "        text-align: right;\n",
       "    }\n",
       "</style>\n",
       "<table border=\"1\" class=\"dataframe\">\n",
       "  <thead>\n",
       "    <tr style=\"text-align: right;\">\n",
       "      <th></th>\n",
       "      <th>Daily_Return</th>\n",
       "    </tr>\n",
       "    <tr>\n",
       "      <th>Close_Date</th>\n",
       "      <th></th>\n",
       "    </tr>\n",
       "  </thead>\n",
       "  <tbody>\n",
       "    <tr>\n",
       "      <th>2016-08-08</th>\n",
       "      <td>1.004060</td>\n",
       "    </tr>\n",
       "    <tr>\n",
       "      <th>2016-08-09</th>\n",
       "      <td>0.992556</td>\n",
       "    </tr>\n",
       "    <tr>\n",
       "      <th>2016-08-10</th>\n",
       "      <td>0.999352</td>\n",
       "    </tr>\n",
       "    <tr>\n",
       "      <th>2016-08-11</th>\n",
       "      <td>1.002316</td>\n",
       "    </tr>\n",
       "    <tr>\n",
       "      <th>2016-08-12</th>\n",
       "      <td>1.012017</td>\n",
       "    </tr>\n",
       "  </tbody>\n",
       "</table>\n",
       "</div>"
      ],
      "text/plain": [
       "            Daily_Return\n",
       "Close_Date              \n",
       "2016-08-08      1.004060\n",
       "2016-08-09      0.992556\n",
       "2016-08-10      0.999352\n",
       "2016-08-11      1.002316\n",
       "2016-08-12      1.012017"
      ]
     },
     "execution_count": 310,
     "metadata": {},
     "output_type": "execute_result"
    }
   ],
   "source": [
    "data.head()"
   ]
  },
  {
   "cell_type": "code",
   "execution_count": 311,
   "metadata": {},
   "outputs": [
    {
     "ename": "AttributeError",
     "evalue": "'DataFrame' object has no attribute 'Close_Date'",
     "output_type": "error",
     "traceback": [
      "\u001b[1;31m---------------------------------------------------------------------------\u001b[0m",
      "\u001b[1;31mAttributeError\u001b[0m                            Traceback (most recent call last)",
      "\u001b[1;32m<ipython-input-311-4cdbcc2737e2>\u001b[0m in \u001b[0;36m<module>\u001b[1;34m()\u001b[0m\n\u001b[1;32m----> 1\u001b[1;33m \u001b[0mdata\u001b[0m\u001b[1;33m.\u001b[0m\u001b[0mindex\u001b[0m \u001b[1;33m=\u001b[0m \u001b[0mpd\u001b[0m\u001b[1;33m.\u001b[0m\u001b[0mto_datetime\u001b[0m\u001b[1;33m(\u001b[0m\u001b[0mdata\u001b[0m\u001b[1;33m.\u001b[0m\u001b[0mClose_Date\u001b[0m\u001b[1;33m)\u001b[0m\u001b[1;33m\u001b[0m\u001b[0m\n\u001b[0m",
      "\u001b[1;32m~\\anaconda\\Anaconda3\\lib\\site-packages\\pandas\\core\\generic.py\u001b[0m in \u001b[0;36m__getattr__\u001b[1;34m(self, name)\u001b[0m\n\u001b[0;32m   4374\u001b[0m             \u001b[1;32mif\u001b[0m \u001b[0mself\u001b[0m\u001b[1;33m.\u001b[0m\u001b[0m_info_axis\u001b[0m\u001b[1;33m.\u001b[0m\u001b[0m_can_hold_identifiers_and_holds_name\u001b[0m\u001b[1;33m(\u001b[0m\u001b[0mname\u001b[0m\u001b[1;33m)\u001b[0m\u001b[1;33m:\u001b[0m\u001b[1;33m\u001b[0m\u001b[0m\n\u001b[0;32m   4375\u001b[0m                 \u001b[1;32mreturn\u001b[0m \u001b[0mself\u001b[0m\u001b[1;33m[\u001b[0m\u001b[0mname\u001b[0m\u001b[1;33m]\u001b[0m\u001b[1;33m\u001b[0m\u001b[0m\n\u001b[1;32m-> 4376\u001b[1;33m             \u001b[1;32mreturn\u001b[0m \u001b[0mobject\u001b[0m\u001b[1;33m.\u001b[0m\u001b[0m__getattribute__\u001b[0m\u001b[1;33m(\u001b[0m\u001b[0mself\u001b[0m\u001b[1;33m,\u001b[0m \u001b[0mname\u001b[0m\u001b[1;33m)\u001b[0m\u001b[1;33m\u001b[0m\u001b[0m\n\u001b[0m\u001b[0;32m   4377\u001b[0m \u001b[1;33m\u001b[0m\u001b[0m\n\u001b[0;32m   4378\u001b[0m     \u001b[1;32mdef\u001b[0m \u001b[0m__setattr__\u001b[0m\u001b[1;33m(\u001b[0m\u001b[0mself\u001b[0m\u001b[1;33m,\u001b[0m \u001b[0mname\u001b[0m\u001b[1;33m,\u001b[0m \u001b[0mvalue\u001b[0m\u001b[1;33m)\u001b[0m\u001b[1;33m:\u001b[0m\u001b[1;33m\u001b[0m\u001b[0m\n",
      "\u001b[1;31mAttributeError\u001b[0m: 'DataFrame' object has no attribute 'Close_Date'"
     ]
    }
   ],
   "source": [
    "data.index = pd.to_datetime(data.Close_Date)"
   ]
  },
  {
   "cell_type": "code",
   "execution_count": 282,
   "metadata": {},
   "outputs": [],
   "source": [
    "data=data[['Daily_Return']]"
   ]
  },
  {
   "cell_type": "code",
   "execution_count": 312,
   "metadata": {},
   "outputs": [
    {
     "ename": "TypeError",
     "evalue": "scatter() missing 1 required positional argument: 'y'",
     "output_type": "error",
     "traceback": [
      "\u001b[1;31m---------------------------------------------------------------------------\u001b[0m",
      "\u001b[1;31mTypeError\u001b[0m                                 Traceback (most recent call last)",
      "\u001b[1;32m<ipython-input-312-84708fe5e630>\u001b[0m in \u001b[0;36m<module>\u001b[1;34m()\u001b[0m\n\u001b[0;32m      1\u001b[0m \u001b[1;32mimport\u001b[0m \u001b[0mmatplotlib\u001b[0m\u001b[1;33m.\u001b[0m\u001b[0mpyplot\u001b[0m \u001b[1;32mas\u001b[0m \u001b[0mplt\u001b[0m\u001b[1;33m\u001b[0m\u001b[0m\n\u001b[0;32m      2\u001b[0m \u001b[1;32mimport\u001b[0m \u001b[0mcufflinks\u001b[0m \u001b[1;32mas\u001b[0m \u001b[0mcf\u001b[0m\u001b[1;33m\u001b[0m\u001b[0m\n\u001b[1;32m----> 3\u001b[1;33m \u001b[0mplt\u001b[0m\u001b[1;33m.\u001b[0m\u001b[0mscatter\u001b[0m\u001b[1;33m(\u001b[0m\u001b[0mdata\u001b[0m\u001b[1;33m,\u001b[0m\u001b[0mtitle\u001b[0m\u001b[1;33m=\u001b[0m\u001b[1;34m\"AAPL performance\"\u001b[0m\u001b[1;33m)\u001b[0m\u001b[1;33m\u001b[0m\u001b[0m\n\u001b[0m\u001b[0;32m      4\u001b[0m \u001b[0mplt\u001b[0m\u001b[1;33m.\u001b[0m\u001b[0mshow\u001b[0m\u001b[1;33m(\u001b[0m\u001b[1;33m)\u001b[0m\u001b[1;33m\u001b[0m\u001b[0m\n",
      "\u001b[1;31mTypeError\u001b[0m: scatter() missing 1 required positional argument: 'y'"
     ]
    }
   ],
   "source": [
    "import matplotlib.pyplot as plt\n",
    "import cufflinks as cf\n",
    "plt.scatter(data,title=\"AAPL performance\")\n",
    "plt.show()"
   ]
  },
  {
   "cell_type": "code",
   "execution_count": 303,
   "metadata": {},
   "outputs": [],
   "source": [
    "from plotly.plotly import plot_mpl\n",
    "from statsmodels.tsa.seasonal import seasonal_decompose\n",
    "result = seasonal_decompose(data, model='multiplicative',freq=30)\n",
    "#fig = result.plot()\n",
    "#plot_mpl(fig)"
   ]
  },
  {
   "cell_type": "code",
   "execution_count": 304,
   "metadata": {},
   "outputs": [
    {
     "data": {
      "text/plain": [
       "<statsmodels.tsa.seasonal.DecomposeResult at 0x291a148f9b0>"
      ]
     },
     "execution_count": 304,
     "metadata": {},
     "output_type": "execute_result"
    }
   ],
   "source": [
    "result"
   ]
  },
  {
   "cell_type": "code",
   "execution_count": 309,
   "metadata": {
    "scrolled": true
   },
   "outputs": [
    {
     "ename": "ImportError",
     "evalue": "cannot import name 'auto_arima' from 'pyramid' (C:\\Users\\david\\anaconda\\Anaconda3\\lib\\site-packages\\pyramid\\__init__.py)",
     "output_type": "error",
     "traceback": [
      "\u001b[1;31m---------------------------------------------------------------------------\u001b[0m",
      "\u001b[1;31mImportError\u001b[0m                               Traceback (most recent call last)",
      "\u001b[1;32m<ipython-input-309-a8ea39690c83>\u001b[0m in \u001b[0;36m<module>\u001b[1;34m()\u001b[0m\n\u001b[1;32m----> 1\u001b[1;33m \u001b[1;32mfrom\u001b[0m \u001b[0mpyramid\u001b[0m \u001b[1;32mimport\u001b[0m \u001b[0mauto_arima\u001b[0m\u001b[1;33m\u001b[0m\u001b[0m\n\u001b[0m\u001b[0;32m      2\u001b[0m stepwise_model = auto_arima(data, start_p=1, start_q=1,\n\u001b[0;32m      3\u001b[0m                            \u001b[0mmax_p\u001b[0m\u001b[1;33m=\u001b[0m\u001b[1;36m3\u001b[0m\u001b[1;33m,\u001b[0m \u001b[0mmax_q\u001b[0m\u001b[1;33m=\u001b[0m\u001b[1;36m3\u001b[0m\u001b[1;33m,\u001b[0m \u001b[0mm\u001b[0m\u001b[1;33m=\u001b[0m\u001b[1;36m12\u001b[0m\u001b[1;33m,\u001b[0m\u001b[1;33m\u001b[0m\u001b[0m\n\u001b[0;32m      4\u001b[0m                            \u001b[0mstart_P\u001b[0m\u001b[1;33m=\u001b[0m\u001b[1;36m0\u001b[0m\u001b[1;33m,\u001b[0m \u001b[0mseasonal\u001b[0m\u001b[1;33m=\u001b[0m\u001b[1;32mTrue\u001b[0m\u001b[1;33m,\u001b[0m\u001b[1;33m\u001b[0m\u001b[0m\n\u001b[0;32m      5\u001b[0m                            \u001b[0md\u001b[0m\u001b[1;33m=\u001b[0m\u001b[1;36m1\u001b[0m\u001b[1;33m,\u001b[0m \u001b[0mD\u001b[0m\u001b[1;33m=\u001b[0m\u001b[1;36m1\u001b[0m\u001b[1;33m,\u001b[0m \u001b[0mtrace\u001b[0m\u001b[1;33m=\u001b[0m\u001b[1;32mTrue\u001b[0m\u001b[1;33m,\u001b[0m\u001b[1;33m\u001b[0m\u001b[0m\n",
      "\u001b[1;31mImportError\u001b[0m: cannot import name 'auto_arima' from 'pyramid' (C:\\Users\\david\\anaconda\\Anaconda3\\lib\\site-packages\\pyramid\\__init__.py)"
     ]
    }
   ],
   "source": [
    "from pyramid.arima import auto_arima\n",
    "stepwise_model = auto_arima(data, start_p=1, start_q=1,\n",
    "                           max_p=3, max_q=3, m=12,\n",
    "                           start_P=0, seasonal=True,\n",
    "                           d=1, D=1, trace=True,\n",
    "                           error_action='ignore',  \n",
    "                           suppress_warnings=True, \n",
    "                           stepwise=True)\n",
    "print(stepwise_model.aic())"
   ]
  },
  {
   "cell_type": "code",
   "execution_count": null,
   "metadata": {},
   "outputs": [],
   "source": []
  },
  {
   "cell_type": "code",
   "execution_count": null,
   "metadata": {},
   "outputs": [],
   "source": []
  }
 ],
 "metadata": {
  "kernelspec": {
   "display_name": "Python 3",
   "language": "python",
   "name": "python3"
  },
  "language_info": {
   "codemirror_mode": {
    "name": "ipython",
    "version": 3
   },
   "file_extension": ".py",
   "mimetype": "text/x-python",
   "name": "python",
   "nbconvert_exporter": "python",
   "pygments_lexer": "ipython3",
   "version": "3.7.0"
  }
 },
 "nbformat": 4,
 "nbformat_minor": 2
}
