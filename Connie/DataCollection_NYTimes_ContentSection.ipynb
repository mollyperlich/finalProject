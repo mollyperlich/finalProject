{
 "cells": [
  {
   "cell_type": "code",
   "execution_count": 1,
   "metadata": {},
   "outputs": [],
   "source": [
    "# Dependencies\n",
    "from bs4 import BeautifulSoup as bs\n",
    "from splinter import Browser"
   ]
  },
  {
   "cell_type": "code",
   "execution_count": 2,
   "metadata": {},
   "outputs": [],
   "source": [
    "executable_path = {'executable_path': 'chromedriver.exe'}\n",
    "browser = Browser('chrome', **executable_path, headless=False)"
   ]
  },
  {
   "cell_type": "code",
   "execution_count": 3,
   "metadata": {},
   "outputs": [],
   "source": [
    "# url = \"https://www.nytimes.com/2016/08/30/well/eat/why-your-granola-is-really-a-dessert.html\"\n",
    "url = \"https://www.nytimes.com/2019/05/26/dining/what-to-cook-this-week.html\"\n",
    "browser.visit(url)"
   ]
  },
  {
   "cell_type": "code",
   "execution_count": 4,
   "metadata": {},
   "outputs": [],
   "source": [
    "    html = browser.html\n",
    "    soup = bs(html, 'html.parser')\n"
   ]
  },
  {
   "cell_type": "code",
   "execution_count": 5,
   "metadata": {},
   "outputs": [
    {
     "data": {
      "text/plain": [
       "bs4.BeautifulSoup"
      ]
     },
     "execution_count": 5,
     "metadata": {},
     "output_type": "execute_result"
    }
   ],
   "source": [
    "# Create a Beautiful Soup object\n",
    "type(soup)"
   ]
  },
  {
   "cell_type": "code",
   "execution_count": 6,
   "metadata": {},
   "outputs": [],
   "source": [
    "# Print formatted version of the soup\n",
    "# print(soup.prettify())"
   ]
  },
  {
   "cell_type": "code",
   "execution_count": 7,
   "metadata": {},
   "outputs": [
    {
     "data": {
      "text/plain": [
       "'What to Cook This Week - The New York Times'"
      ]
     },
     "execution_count": 7,
     "metadata": {},
     "output_type": "execute_result"
    }
   ],
   "source": [
    "# Clean up the text\n",
    "soup.title.text.strip()"
   ]
  },
  {
   "cell_type": "code",
   "execution_count": 9,
   "metadata": {},
   "outputs": [],
   "source": [
    "# Extract the content of the NYTimes article (in the article tag under the section tag, pull all text)\n",
    "content = soup.body.article.section.text"
   ]
  },
  {
   "cell_type": "code",
   "execution_count": 11,
   "metadata": {},
   "outputs": [
    {
     "name": "stdout",
     "output_type": "stream",
     "text": [
      "Good morning. They’re waxing the floors at the local posts of the Veterans of Foreign Wars, and polishing the trucks at the firehouse. Flags are snapping over Main Streets as if auditioning for the Childe Hassam treatment, proud and valiant, bittersweet. Tomorrow, we’ll remember those who lost their lives in defense of our freedom, and celebrate them with parades, drink, a lot of food.Today could be glorious. You could make these beautiful pancakes (above) for lunch, even if you had a big breakfast of yogurt and granola. Pancakes for lunch, accompanied by a brace of fried eggs, is one of the great pleasures of life on Earth.Then, for dinner, you could have this Persian-ish dinner of fried chicken accompanied by Samin Nosrat’s salad-e Shirazi. That’s really fine.For the Monday holiday, you can set up for a cookout or you can barbecue all day. But you cannot call the one the other. The activities are different; they are distinct. For your cookout, then: Quick-cooking grilled baby backs. For your barbecue: Pulled pork. (We’ve got plenty of side dishes to go with.)AdvertisementEither way, I’m going to make like my colleague Kiera Wright-Ruiz, and make some horchata that I can mix with the cold-brew I make in a Mason jar for what I think is going to be the drink of my summer and definitely the name of my new band: Dirty Horchata. That’ll keep me buzzing all the way through to dessert. Which is banana pudding, of course.Tuesday, I’m looking at this summer minestrone with fresh basil, a mellow retort to the weekend blowout.On Wednesday, you should freestyle something in the way of a sheet-pan dinner. You can make that pretty luxe. Or you can make Mexican hot dogs and call life a win.For Thursday, take a look at David Tanis’s recipe for lemony roasted chicken wings and fingerling potatoes. It’s basically another sheet-pan dinner? You won’t be cooking this way in July. (Don’t want to cook in the oven again? Try out the griddled dinner I learned to make from the Philadelphia chef Michael Solomonov: Jerusalem grill.)Then round out the week on Friday with a big green shakshuka-like dinner with avocado and lime. Eggs are good protein.AdvertisementThousands and thousands more recipes you could cook this week are on NYT Cooking. (You do need a subscription to see them all. Subscriptions are how we pay the rent.) Go see what you find!Come visit us as well on Instagram, Twitter, YouTube and Facebook. There’s a great deal of interesting material there, what some call “content.” See what you think.And please write for help if you find yourself in trouble with a recipe or our technology: cookingcare@nytimes.com. We’ll get back to you. We like to help.Now, here’s a must-read: Chris Nuttall-Smith in Toronto Life, on the sushi-bro-chef Masaki Saito.I like Hannah Goldfield in The New Yorker on the Montreal chefs David McMillan and Frédéric Morin.Finally, it’s got nothing to do with omakase or duck fat, but “Sgt. Pepper’s Lonely Hearts Club Band” was released on this day in 1967. Here’s “Being for the Benefit of Mr. Kite!” See you tomorrow.\n"
     ]
    }
   ],
   "source": [
    "print(content)"
   ]
  },
  {
   "cell_type": "code",
   "execution_count": null,
   "metadata": {},
   "outputs": [],
   "source": []
  }
 ],
 "metadata": {
  "kernelspec": {
   "display_name": "Python 3",
   "language": "python",
   "name": "python3"
  },
  "language_info": {
   "codemirror_mode": {
    "name": "ipython",
    "version": 3
   },
   "file_extension": ".py",
   "mimetype": "text/x-python",
   "name": "python",
   "nbconvert_exporter": "python",
   "pygments_lexer": "ipython3",
   "version": "3.6.4"
  },
  "nteract": {
   "version": "0.2.0"
  },
  "varInspector": {
   "cols": {
    "lenName": 16,
    "lenType": 16,
    "lenVar": 40
   },
   "kernels_config": {
    "python": {
     "delete_cmd_postfix": "",
     "delete_cmd_prefix": "del ",
     "library": "var_list.py",
     "varRefreshCmd": "print(var_dic_list())"
    },
    "r": {
     "delete_cmd_postfix": ") ",
     "delete_cmd_prefix": "rm(",
     "library": "var_list.r",
     "varRefreshCmd": "cat(var_dic_list()) "
    }
   },
   "types_to_exclude": [
    "module",
    "function",
    "builtin_function_or_method",
    "instance",
    "_Feature"
   ],
   "window_display": false
  }
 },
 "nbformat": 4,
 "nbformat_minor": 2
}
