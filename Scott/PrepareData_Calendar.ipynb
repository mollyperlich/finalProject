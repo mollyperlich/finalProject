{
 "cells": [
  {
   "cell_type": "markdown",
   "metadata": {},
   "source": [
    "### Prepare Data for Calendar\n",
    "There is to be a calendar control within the website that for each day, shows the predicted value and the actual value. The actual values have been calculated file that contains also the content, \"News_With_Labels.json\". The actual information is to be extracted from this file and a new file is to be created.   \n",
    "  \n",
    "Create json that is a list of \"CalendarData\"\n",
    "* \"date\"; (int) date of the calculation; YYYYMMDD\n",
    "* \"predicted\": (string) model calculation; \"Buy\", \"Sell\", \"Hold\", \"Unknown\"\n",
    "* \"actual\": (string) calculated from actual stock results; \"Buy\", \"Sell\", \"Hold\", \"Unknown\""
   ]
  },
  {
   "cell_type": "code",
   "execution_count": 1,
   "metadata": {},
   "outputs": [],
   "source": [
    "import json\n",
    "import datetime\n",
    "from datetime import timedelta"
   ]
  },
  {
   "cell_type": "markdown",
   "metadata": {},
   "source": [
    "#### 1 Read Actual Data"
   ]
  },
  {
   "cell_type": "code",
   "execution_count": 2,
   "metadata": {},
   "outputs": [
    {
     "name": "stdout",
     "output_type": "stream",
     "text": [
      "completed loading file\n"
     ]
    }
   ],
   "source": [
    "sourceFile = \"3.News_With_Labels.json\"\n",
    "    \n",
    "with open(sourceFile) as jsonFile:\n",
    "    sourceData = json.load(jsonFile)\n",
    "    \n",
    "print(\"completed loading file\")"
   ]
  },
  {
   "cell_type": "code",
   "execution_count": 3,
   "metadata": {},
   "outputs": [
    {
     "data": {
      "text/plain": [
       "4980"
      ]
     },
     "execution_count": 3,
     "metadata": {},
     "output_type": "execute_result"
    }
   ],
   "source": [
    "#-- Deterine Count of articles\n",
    "len(sourceData['articles'])"
   ]
  },
  {
   "cell_type": "code",
   "execution_count": 6,
   "metadata": {},
   "outputs": [
    {
     "data": {
      "text/plain": [
       "datetime.datetime(2018, 1, 2, 0, 0)"
      ]
     },
     "execution_count": 6,
     "metadata": {},
     "output_type": "execute_result"
    }
   ],
   "source": [
    "#- Check date format conversation\n",
    "# sourceData['articles'][0]['publishdate']\n",
    "datetime.datetime.strptime(sourceData['articles'][0]['publishdate'], \"%Y-%m-%d\")"
   ]
  },
  {
   "cell_type": "markdown",
   "metadata": {},
   "source": [
    "#### 2 Search for Date\n",
    "Function to search date for the actual stock results"
   ]
  },
  {
   "cell_type": "code",
   "execution_count": 7,
   "metadata": {},
   "outputs": [],
   "source": [
    "def getActualLabelForDate(searchDate, sourceData):\n",
    "    ''' Searchs the date for the label that was calculated for a date. Gets the first value found.\n",
    "    \n",
    "    Accepts : searchDate (datetime) date to determine the label\n",
    "              sourceDate (dictionary) data that contains labels\n",
    "                      createdate: (string) date when the file was generated\n",
    "                      articles: (list) all of the articles\n",
    "                          publishdate: (string) date when the article was published, format \"m/d/YYYY\"\n",
    "                          content: (string) content \n",
    "                          label: (string) information on what actual stock result\n",
    "            \n",
    "    Returns : label that was calculated; \"Buy\", \"Sell\", \"Hold\" and \"Unknown\" when not found\n",
    "    '''\n",
    "    \n",
    "    labelInfo = \"Unknown\"\n",
    "    \n",
    "    for article in sourceData['articles']:\n",
    "        \n",
    "        #- Convert Date\n",
    "        articleDate = datetime.datetime.strptime(article['publishdate'], \"%Y-%m-%d\")\n",
    "        \n",
    "        if (articleDate == searchDate):\n",
    "            labelInfo = article['label']\n",
    "            break\n",
    "    \n",
    "    return labelInfo      "
   ]
  },
  {
   "cell_type": "markdown",
   "metadata": {},
   "source": [
    "#### 3 Get Results by Date\n",
    "Get the results for the study period"
   ]
  },
  {
   "cell_type": "code",
   "execution_count": 8,
   "metadata": {},
   "outputs": [
    {
     "name": "stdout",
     "output_type": "stream",
     "text": [
      "Completed getting values, number of items: 730\n"
     ]
    }
   ],
   "source": [
    "#- Set Date Range\n",
    "startSearchDate = datetime.datetime(2017,7,1)\n",
    "endSearchDate = datetime.datetime(2019,6,30)\n",
    "\n",
    "calendarDates = []\n",
    "searchDate = startSearchDate\n",
    "continueSearch = True\n",
    "\n",
    "while continueSearch == True:\n",
    "    \n",
    "    #- Get Actual Label\n",
    "    actualLabel = getActualLabelForDate(searchDate, sourceData)\n",
    "    \n",
    "    \n",
    "    #- Get Predictive Label\n",
    "    predictiveLabel = \"Unknown\"\n",
    "    \n",
    "    calendarDates.append({\n",
    "        \"date\": int(searchDate.strftime('%Y%m%d')),\n",
    "        \"predicted\": predictiveLabel,\n",
    "        \"actual\": actualLabel\n",
    "    })\n",
    "\n",
    "    \n",
    "    #- Update Date\n",
    "    searchDate = searchDate + timedelta(days=1)\n",
    "    \n",
    "    \n",
    "    #- Check Continue Search\n",
    "    if (searchDate > endSearchDate):\n",
    "        continueSearch = False\n",
    "      \n",
    "\n",
    "print(f\"Completed getting values, number of items: {len(calendarDates)}\")"
   ]
  },
  {
   "cell_type": "markdown",
   "metadata": {},
   "source": [
    "#### 4 Save Results\n",
    "Save the list of the calendarInfo objects to disk"
   ]
  },
  {
   "cell_type": "code",
   "execution_count": 9,
   "metadata": {},
   "outputs": [
    {
     "name": "stdout",
     "output_type": "stream",
     "text": [
      "Completed writing file to disk\n"
     ]
    }
   ],
   "source": [
    "#- Json\n",
    "with open('calendarData_3.json', 'w') as fp:\n",
    "    json.dump(calendarDates, fp)\n",
    "\n",
    "print(\"Completed writing file to disk\")"
   ]
  },
  {
   "cell_type": "code",
   "execution_count": null,
   "metadata": {},
   "outputs": [],
   "source": []
  }
 ],
 "metadata": {
  "kernelspec": {
   "display_name": "Python 3",
   "language": "python",
   "name": "python3"
  },
  "language_info": {
   "codemirror_mode": {
    "name": "ipython",
    "version": 3
   },
   "file_extension": ".py",
   "mimetype": "text/x-python",
   "name": "python",
   "nbconvert_exporter": "python",
   "pygments_lexer": "ipython3",
   "version": "3.7.1"
  }
 },
 "nbformat": 4,
 "nbformat_minor": 2
}
