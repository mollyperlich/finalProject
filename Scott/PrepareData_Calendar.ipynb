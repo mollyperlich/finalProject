{
 "cells": [
  {
   "cell_type": "markdown",
   "metadata": {},
   "source": [
    "### Prepare Data for Calendar\n",
    "There is to be a calendar control within the website that for each day, shows the predicted value and the actual value. The actual values have been calculated file that contains also the content, \"News_With_Labels.json\". The actual information is to be extracted from this file and a new file is to be created.   \n",
    "  \n",
    "Create json that is a list of \"CalendarData\"\n",
    "* \"date\"; (int) date of the calculation; YYYYMMDD\n",
    "* \"predicted\": (string) model calculation; \"Buy\", \"Sell\", \"Hold\", \"Unknown\"\n",
    "* \"actual\": (string) calculated from actual stock results; \"Buy\", \"Sell\", \"Hold\", \"Unknown\""
   ]
  },
  {
   "cell_type": "code",
   "execution_count": 1,
   "metadata": {},
   "outputs": [],
   "source": [
    "import json\n",
    "import datetime\n",
    "import pandas as pd\n",
    "\n",
    "from datetime import timedelta"
   ]
  },
  {
   "cell_type": "markdown",
   "metadata": {},
   "source": [
    "#### 1 Read Actual Data"
   ]
  },
  {
   "cell_type": "code",
   "execution_count": 2,
   "metadata": {},
   "outputs": [
    {
     "name": "stdout",
     "output_type": "stream",
     "text": [
      "completed loading file\n"
     ]
    }
   ],
   "source": [
    "sourceFile = \"3.News_With_Labels.json\"\n",
    "    \n",
    "with open(sourceFile) as jsonFile:\n",
    "    sourceData = json.load(jsonFile)\n",
    "    \n",
    "print(\"completed loading file\")"
   ]
  },
  {
   "cell_type": "code",
   "execution_count": 3,
   "metadata": {},
   "outputs": [
    {
     "data": {
      "text/plain": [
       "4980"
      ]
     },
     "execution_count": 3,
     "metadata": {},
     "output_type": "execute_result"
    }
   ],
   "source": [
    "#-- Deterine Count of articles\n",
    "len(sourceData['articles'])"
   ]
  },
  {
   "cell_type": "code",
   "execution_count": 4,
   "metadata": {},
   "outputs": [
    {
     "data": {
      "text/plain": [
       "datetime.datetime(2018, 1, 2, 0, 0)"
      ]
     },
     "execution_count": 4,
     "metadata": {},
     "output_type": "execute_result"
    }
   ],
   "source": [
    "#- Check date format conversation\n",
    "# sourceData['articles'][0]['publishdate']\n",
    "datetime.datetime.strptime(sourceData['articles'][0]['publishdate'], \"%Y-%m-%d\")"
   ]
  },
  {
   "cell_type": "markdown",
   "metadata": {},
   "source": [
    "#### 2 Read Predicted Data\n",
    ".CSV file contains the predicted data"
   ]
  },
  {
   "cell_type": "code",
   "execution_count": 5,
   "metadata": {},
   "outputs": [
    {
     "data": {
      "text/html": [
       "<div>\n",
       "<style scoped>\n",
       "    .dataframe tbody tr th:only-of-type {\n",
       "        vertical-align: middle;\n",
       "    }\n",
       "\n",
       "    .dataframe tbody tr th {\n",
       "        vertical-align: top;\n",
       "    }\n",
       "\n",
       "    .dataframe thead th {\n",
       "        text-align: right;\n",
       "    }\n",
       "</style>\n",
       "<table border=\"1\" class=\"dataframe\">\n",
       "  <thead>\n",
       "    <tr style=\"text-align: right;\">\n",
       "      <th></th>\n",
       "      <th>Unnamed: 0</th>\n",
       "      <th>0</th>\n",
       "      <th>date</th>\n",
       "    </tr>\n",
       "  </thead>\n",
       "  <tbody>\n",
       "    <tr>\n",
       "      <th>0</th>\n",
       "      <td>0</td>\n",
       "      <td>Hold</td>\n",
       "      <td>2018-01-02</td>\n",
       "    </tr>\n",
       "    <tr>\n",
       "      <th>1</th>\n",
       "      <td>1</td>\n",
       "      <td>Hold</td>\n",
       "      <td>2018-01-02</td>\n",
       "    </tr>\n",
       "    <tr>\n",
       "      <th>2</th>\n",
       "      <td>2</td>\n",
       "      <td>Hold</td>\n",
       "      <td>2018-01-02</td>\n",
       "    </tr>\n",
       "    <tr>\n",
       "      <th>3</th>\n",
       "      <td>3</td>\n",
       "      <td>Hold</td>\n",
       "      <td>2018-01-02</td>\n",
       "    </tr>\n",
       "    <tr>\n",
       "      <th>4</th>\n",
       "      <td>4</td>\n",
       "      <td>Hold</td>\n",
       "      <td>2018-01-02</td>\n",
       "    </tr>\n",
       "  </tbody>\n",
       "</table>\n",
       "</div>"
      ],
      "text/plain": [
       "   Unnamed: 0     0        date\n",
       "0           0  Hold  2018-01-02\n",
       "1           1  Hold  2018-01-02\n",
       "2           2  Hold  2018-01-02\n",
       "3           3  Hold  2018-01-02\n",
       "4           4  Hold  2018-01-02"
      ]
     },
     "execution_count": 5,
     "metadata": {},
     "output_type": "execute_result"
    }
   ],
   "source": [
    "sourcePredictedFile = \"y_pred.csv\"\n",
    "\n",
    "predicted_df = pd.read_csv(sourcePredictedFile)\n",
    "\n",
    "predicted_df.head()"
   ]
  },
  {
   "cell_type": "markdown",
   "metadata": {},
   "source": [
    "#### 2 Search for Date\n",
    "Function to search date for the actual stock results"
   ]
  },
  {
   "cell_type": "code",
   "execution_count": 12,
   "metadata": {},
   "outputs": [],
   "source": [
    "def getPredictedLabelForDate(searchDate, predicted_df):\n",
    "    ''' Searches for predicted label for the date\n",
    "    \n",
    "    Accepts : searchDate (datetime) date to determine label\n",
    "              predicted_df (DataFrame) contains predicted information\n",
    "              \n",
    "    Returns : (string) able that is predicted; \"Buy\", \"Sell\", \"Hold\" and \"Unknown\" when not found\n",
    "    \n",
    "    '''\n",
    "    \n",
    "    labelInfo = \"Unknown\"\n",
    "    \n",
    "    searchDateString = searchDate.strftime(\"%Y-%m-%d\")\n",
    "    \n",
    "    subset_df =  predicted_df.loc[predicted_df['date'] == searchDateString]\n",
    "\n",
    "    if (len(subset_df) > 0):\n",
    "        labelInfo = subset_df.iloc[0]['0']\n",
    "    \n",
    "    \n",
    "    return labelInfo"
   ]
  },
  {
   "cell_type": "code",
   "execution_count": 8,
   "metadata": {},
   "outputs": [],
   "source": [
    "def getActualLabelForDate(searchDate, sourceData):\n",
    "    ''' Searches the date for the label that was calculated for a date. Gets the first value found.\n",
    "    \n",
    "    Accepts : searchDate (datetime) date to determine the label\n",
    "              sourceDate (dictionary) data that contains labels\n",
    "                      createdate: (string) date when the file was generated\n",
    "                      articles: (list) all of the articles\n",
    "                          publishdate: (string) date when the article was published, format \"m/d/YYYY\"\n",
    "                          content: (string) content \n",
    "                          label: (string) information on what actual stock result\n",
    "            \n",
    "    Returns : label that was calculated; \"Buy\", \"Sell\", \"Hold\" and \"Unknown\" when not found\n",
    "    '''\n",
    "    \n",
    "    labelInfo = \"Unknown\"\n",
    "    \n",
    "    for article in sourceData['articles']:\n",
    "        \n",
    "        #- Convert Date\n",
    "        articleDate = datetime.datetime.strptime(article['publishdate'], \"%Y-%m-%d\")\n",
    "        \n",
    "        if (articleDate == searchDate):\n",
    "            labelInfo = article['label']\n",
    "            break\n",
    "    \n",
    "    return labelInfo      "
   ]
  },
  {
   "cell_type": "markdown",
   "metadata": {},
   "source": [
    "#### 3 Get Results by Date\n",
    "Get the results for the study period"
   ]
  },
  {
   "cell_type": "code",
   "execution_count": 13,
   "metadata": {},
   "outputs": [
    {
     "name": "stdout",
     "output_type": "stream",
     "text": [
      "Completed getting values, number of items: 730\n"
     ]
    }
   ],
   "source": [
    "#- Set Date Range\n",
    "startSearchDate = datetime.datetime(2017,7,1)\n",
    "endSearchDate = datetime.datetime(2019,6,30)\n",
    "\n",
    "calendarDates = []\n",
    "searchDate = startSearchDate\n",
    "continueSearch = True\n",
    "\n",
    "while continueSearch == True:\n",
    "    \n",
    "    #- Get Actual Label\n",
    "    actualLabel = getActualLabelForDate(searchDate, sourceData)\n",
    "    \n",
    "    \n",
    "    #- Get Predictive Label\n",
    "    predictiveLabel = getPredictedLabelForDate(searchDate, predicted_df)\n",
    "    \n",
    "    calendarDates.append({\n",
    "        \"date\": int(searchDate.strftime('%Y%m%d')),\n",
    "        \"predicted\": predictiveLabel,\n",
    "        \"actual\": actualLabel\n",
    "    })\n",
    "\n",
    "    \n",
    "    #- Update Date\n",
    "    searchDate = searchDate + timedelta(days=1)\n",
    "    \n",
    "    \n",
    "    #- Check Continue Search\n",
    "    if (searchDate > endSearchDate):\n",
    "        continueSearch = False\n",
    "      \n",
    "\n",
    "print(f\"Completed getting values, number of items: {len(calendarDates)}\")"
   ]
  },
  {
   "cell_type": "markdown",
   "metadata": {},
   "source": [
    "#### 4 Save Results\n",
    "Save the list of the calendarInfo objects to disk"
   ]
  },
  {
   "cell_type": "code",
   "execution_count": 14,
   "metadata": {},
   "outputs": [
    {
     "name": "stdout",
     "output_type": "stream",
     "text": [
      "Completed writing file to disk\n"
     ]
    }
   ],
   "source": [
    "#- Json\n",
    "with open('calendarData_4.json', 'w') as fp:\n",
    "    json.dump(calendarDates, fp)\n",
    "\n",
    "print(\"Completed writing file to disk\")"
   ]
  },
  {
   "cell_type": "code",
   "execution_count": null,
   "metadata": {},
   "outputs": [],
   "source": []
  }
 ],
 "metadata": {
  "kernelspec": {
   "display_name": "Python 3",
   "language": "python",
   "name": "python3"
  },
  "language_info": {
   "codemirror_mode": {
    "name": "ipython",
    "version": 3
   },
   "file_extension": ".py",
   "mimetype": "text/x-python",
   "name": "python",
   "nbconvert_exporter": "python",
   "pygments_lexer": "ipython3",
   "version": "3.7.1"
  }
 },
 "nbformat": 4,
 "nbformat_minor": 2
}
