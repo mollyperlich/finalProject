{
 "cells": [
  {
   "cell_type": "markdown",
   "metadata": {},
   "source": [
    "## Data Collection\n",
    "Pull data from the NY Times API for each day."
   ]
  },
  {
   "cell_type": "markdown",
   "metadata": {},
   "source": [
    "#### 1 Imports\n",
    "Reference libraries required; use datetime to determine the time range.  \n",
    "\n",
    "Requires secrets.py that contains API key for the New York Times."
   ]
  },
  {
   "cell_type": "code",
   "execution_count": null,
   "metadata": {},
   "outputs": [],
   "source": [
    "import requests\n",
    "import json\n",
    "from datetime import timedelta\n",
    "from datetime import datetime\n",
    "import uuid\n",
    "import time\n",
    "\n",
    "from secrets import api_key"
   ]
  },
  {
   "cell_type": "markdown",
   "metadata": {},
   "source": [
    "#### 2 Get Data From API\n",
    "Methods used to request the data from the NY Times API and creates JSON"
   ]
  },
  {
   "cell_type": "code",
   "execution_count": null,
   "metadata": {},
   "outputs": [],
   "source": [
    "def getArticlesForDate(searchDate):\n",
    "    ''' Gets the articles for the date provided from the NY Times website\n",
    "    \n",
    "    Accepts : searchDate (datetime) date to query for records for\n",
    "            \n",
    "    Returns : (array) list of articles, in dictionary, found for that date\n",
    "                title: (string) title of article\n",
    "                category: (string) news desk that the article is from\n",
    "                id: (string) unique identifier of the news article; created when downloaded\n",
    "                sourceurl: (string) Url of the news article on the NY Times website\n",
    "                content: (string) Text of the news article\n",
    "                imageurl: (string) Url to image from the news article; could be empty\n",
    "                publishdate: (int) Date when the article was published, yyyyMMdd\n",
    "    '''\n",
    "    \n",
    "    #- Prepare Results\n",
    "    results = []\n",
    "    \n",
    "    \n",
    "    #- Create Parameters\n",
    "    searchDateString = convertDateToString(searchDate)\n",
    "    \n",
    "    filterQuery = f'news_desk:(\"Business\" \"Business Day\" \"Technology\" \"Personal Tech\" \"Politics\" ) ' \\\n",
    "                f'AND pub_date:({searchDateString})'\n",
    "\n",
    "    parameters = {\n",
    "        'fq' : filterQuery,\n",
    "        'api-key' : api_key\n",
    "        }\n",
    "        \n",
    "    \n",
    "    #- Query API\n",
    "    print(f\"Requesting data from API: {searchDateString}\")\n",
    "    \n",
    "    baseNytUrl = \"https://api.nytimes.com/svc/search/v2/articlesearch.json\"\n",
    "    \n",
    "    response = requests.request(\"GET\", baseNytUrl, params=parameters)\n",
    "    \n",
    "    \n",
    "    # Check Response\n",
    "    if (response.status_code == requests.codes.ok):\n",
    "        \n",
    "        # Get Json\n",
    "        responseJson = response.json()\n",
    "        \n",
    "        \n",
    "        for doc in responseJson['response']['docs']:\n",
    "            results.append({\n",
    "                \"title\" : doc['headline']['main'],\n",
    "                \"category\": doc['news_desk'],\n",
    "                \"id\": str(uuid.uuid4()),\n",
    "                \"sourceurl\": doc['web_url'],\n",
    "                \"publishdate\": convertDateToInt(searchDate),\n",
    "                \"imageurl\": getArticleImageUrl(doc),\n",
    "                \"content\": doc['lead_paragraph']\n",
    "            })              \n",
    "            \n",
    "        \n",
    "    else:\n",
    "        print(f'Unable to get data. Date: {searchDateString} Code: {response.status_code}')\n",
    "    \n",
    "        raise Exception(\"Unable to get data\")\n",
    "        \n",
    "    \n",
    "    \n",
    "    return results"
   ]
  },
  {
   "cell_type": "code",
   "execution_count": null,
   "metadata": {},
   "outputs": [],
   "source": [
    "def convertDateToString(searchDate):\n",
    "    ''' Converts the provided date to string in \"YYYY-MM-DD\" format\n",
    "    \n",
    "    Accepts : searchDate (datetime) date to convert to string\n",
    "    \n",
    "    Returns : (string) formated string\n",
    "    '''\n",
    "    \n",
    "    return searchDate.strftime('%Y-%m-%d')"
   ]
  },
  {
   "cell_type": "code",
   "execution_count": null,
   "metadata": {},
   "outputs": [],
   "source": [
    "def getArticleImageUrl(doc):\n",
    "    ''' Gets the url to article; ensure the media type is image\n",
    "    \n",
    "    Accepts : Dictionary of the article\n",
    "    \n",
    "    Returns : (string) Url to the image; could be empty\n",
    "    '''\n",
    "    \n",
    "    sourceUrl = \"\"\n",
    "    \n",
    "    for media in doc[\"multimedia\"]:\n",
    "        \n",
    "        if (media['type'] == 'image'):\n",
    "            sourceUrl = f'https://static01.nyt.com/{media[\"url\"]}'\n",
    "            \n",
    "            break\n",
    "            \n",
    "    return sourceUrl"
   ]
  },
  {
   "cell_type": "code",
   "execution_count": null,
   "metadata": {},
   "outputs": [],
   "source": [
    "def convertDateToInt(searchDate):\n",
    "    ''' Converts provided date to int in \"YYYYMMDD\" format\n",
    "    \n",
    "    Accepts : searchDate (datetime) date to convert to int\n",
    "    \n",
    "    Returns : (int) converted date\n",
    "    '''\n",
    "\n",
    "    return int(searchDate.strftime('%Y%m%d'))"
   ]
  },
  {
   "cell_type": "code",
   "execution_count": null,
   "metadata": {},
   "outputs": [],
   "source": [
    "def getArticlesForDataRange(startSearchDate, endSearchDate):\n",
    "    ''' Gets articles between the two dates provided\n",
    "    \n",
    "    Accepts : startSearchDate (datetime) date when to start the search\n",
    "              endSearcDate (datetime) date when to stop the search; this date is included\n",
    "    \n",
    "    Returns : (array) list of articles, in dictionary, found for that date\n",
    "                title: (string) title of article\n",
    "                category: (string) news desk that the article is from\n",
    "                id: (string) unique identifier of the news article; created when downloaded\n",
    "                sourceurl: (string) Url of the news article on the NY Times website\n",
    "                content: (string) Text of the news article\n",
    "                imageurl: (string) Url to image from the news article; could be empty\n",
    "                publishdate: (int) Date when the article was published, yyyyMMdd\n",
    "    '''\n",
    "    \n",
    "    #- Verify Dates\n",
    "    if (startSearchDate > endSearchDate):\n",
    "        raise Exception(\"Invalid dates\")\n",
    "    \n",
    "    \n",
    "    #- Get Articles for Date\n",
    "    allResults = []\n",
    "    canContinueSearch = True\n",
    "    processSearchDate = startSearchDate\n",
    "    \n",
    "    \n",
    "    while (canContinueSearch == True):\n",
    "        \n",
    "        #- Get Records\n",
    "        dayResults = getArticlesForDate(processSearchDate)\n",
    "        \n",
    "        \n",
    "        #- Merge Lists\n",
    "        allResults = allResults + dayResults\n",
    "        \n",
    "        \n",
    "        #- Sleep\n",
    "        # API is limited to 10 calls per minute\n",
    "        time.sleep(6)\n",
    "        \n",
    "        \n",
    "        #- Prepare Next Date\n",
    "        processSearchDate = processSearchDate + timedelta(days=1)\n",
    "        \n",
    "        if (processSearchDate > endSearchDate):\n",
    "            canContinueSearch = False\n",
    "    \n",
    "    \n",
    "    \n",
    "    return allResults"
   ]
  },
  {
   "cell_type": "markdown",
   "metadata": {},
   "source": [
    "#### 3 Save Results\n",
    "Saves the results to JSON file to disk"
   ]
  },
  {
   "cell_type": "code",
   "execution_count": null,
   "metadata": {},
   "outputs": [],
   "source": [
    "def saveResultsToJson(searchResults):\n",
    "    ''' Stores the results to disk as 'articles.json', same folder as where the python script is running\n",
    "    \n",
    "    Accepts : searchResults (array) list of articles, in dictionary, found for search period\n",
    "                title: (string) title of article\n",
    "                category: (string) news desk that the article is from\n",
    "                id: (string) unique identifier of the news article; created when downloaded\n",
    "                sourceurl: (string) Url of the news article on the NY Times website\n",
    "                content: (string) Text of the news article\n",
    "                imageurl: (string) Url to image from the news article; could be empty\n",
    "                publishdate: (int) Date when the article was published, yyyyMMdd\n",
    "    \n",
    "    Returns : undefined\n",
    "    '''\n",
    "    \n",
    "    #- Create Container\n",
    "    container = {\n",
    "        \"createdate\" : convertDateToInt(datetime.now()),\n",
    "        \"articles\" : searchResults\n",
    "        }\n",
    "    \n",
    "    \n",
    "    #- Json\n",
    "    with open('articles.json', 'w') as fp:\n",
    "        json.dump(container, fp)\n",
    "    \n",
    "    \n",
    "    "
   ]
  },
  {
   "cell_type": "markdown",
   "metadata": {},
   "source": [
    "#### 4 Start Search\n",
    "Provide start and end date range for the search"
   ]
  },
  {
   "cell_type": "code",
   "execution_count": null,
   "metadata": {},
   "outputs": [],
   "source": [
    "#- Set Date Range\n",
    "startSearchDate = datetime.datetime(2018,1,1)\n",
    "endSearchDate = datetime.datetime(2018,1,3)\n",
    "\n",
    "\n",
    "#- Get Articles\n",
    "searchResults = getArticlesForDataRange(startSearchDate, endSearchDate)\n",
    "\n",
    "print(f\"--> Complete getting articles. Total Articles: {len(searchResults)}\")\n",
    "\n",
    "\n",
    "#- Save To Disk\n",
    "saveResultsToJson(searchResults)\n",
    "\n",
    "\n",
    "print(\"--> Completed saving to disk\")\n"
   ]
  },
  {
   "cell_type": "code",
   "execution_count": null,
   "metadata": {},
   "outputs": [],
   "source": []
  },
  {
   "cell_type": "code",
   "execution_count": null,
   "metadata": {},
   "outputs": [],
   "source": []
  },
  {
   "cell_type": "code",
   "execution_count": null,
   "metadata": {},
   "outputs": [],
   "source": []
  },
  {
   "cell_type": "code",
   "execution_count": null,
   "metadata": {},
   "outputs": [],
   "source": []
  },
  {
   "cell_type": "code",
   "execution_count": null,
   "metadata": {},
   "outputs": [],
   "source": []
  }
 ],
 "metadata": {
  "kernelspec": {
   "display_name": "Python 3",
   "language": "python",
   "name": "python3"
  },
  "language_info": {
   "codemirror_mode": {
    "name": "ipython",
    "version": 3
   },
   "file_extension": ".py",
   "mimetype": "text/x-python",
   "name": "python",
   "nbconvert_exporter": "python",
   "pygments_lexer": "ipython3",
   "version": "3.7.1"
  }
 },
 "nbformat": 4,
 "nbformat_minor": 2
}
