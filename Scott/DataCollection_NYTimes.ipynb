{
 "cells": [
  {
   "cell_type": "code",
   "execution_count": null,
   "metadata": {},
   "outputs": [],
   "source": []
  },
  {
   "cell_type": "code",
   "execution_count": 22,
   "metadata": {},
   "outputs": [],
   "source": [
    "import requests\n",
    "import datetime\n",
    "import uuid\n",
    "\n",
    "from secrets import api_key"
   ]
  },
  {
   "cell_type": "code",
   "execution_count": null,
   "metadata": {},
   "outputs": [],
   "source": [
    "numArticlesForDay = 10"
   ]
  },
  {
   "cell_type": "code",
   "execution_count": null,
   "metadata": {},
   "outputs": [],
   "source": []
  },
  {
   "cell_type": "code",
   "execution_count": 38,
   "metadata": {},
   "outputs": [],
   "source": [
    "def getArticlesForDate(searchDate):\n",
    "    ''' Gets the articles for the date provided from the NY Times website\n",
    "    \n",
    "    Accepts : searchDate (datetime) date to query for records for\n",
    "            \n",
    "    Returns : (array) list of articles, in dictionary, found for that date\n",
    "                title: (string) title of article\n",
    "                category: (string) news desk that the article is from\n",
    "                id: (string) unique identifier of the news article; created when downloaded\n",
    "                sourceurl: (string) Url of the news article on the NY Times website\n",
    "                content: (string) Text of the news article\n",
    "                imageurl: (string) Url to image from the news article; could be empty\n",
    "                publishdate: (int) Date when the article was published, yyyyMMdd\n",
    "    '''\n",
    "    \n",
    "    #- Prepare Results\n",
    "    results = []\n",
    "    \n",
    "    \n",
    "    #- Create Parameters\n",
    "    searchDateString = convertDateToString(searchDate)\n",
    "    \n",
    "    filterQuery = f'news_desk:(\"Business\" \"Business Day\" \"Technology\" \"Personal Tech\" \"Politics\" ) ' \\\n",
    "                f'AND pub_date:({searchDateString})'\n",
    "\n",
    "    parameters = {\n",
    "        'fq' : filterQuery,\n",
    "        'api-key' : api_key\n",
    "        }\n",
    "        \n",
    "    \n",
    "    #- Query API\n",
    "    print(f\"Requesting data from API: {searchDateString}\")\n",
    "    \n",
    "    baseNytUrl = \"https://api.nytimes.com/svc/search/v2/articlesearch.json\"\n",
    "    \n",
    "    response = requests.request(\"GET\", baseNytUrl, params=parameters)\n",
    "    \n",
    "    \n",
    "    # Check Response\n",
    "    if (response.status_code == requests.codes.ok):\n",
    "        \n",
    "        # Get Json\n",
    "        responseJson = response.json()\n",
    "        \n",
    "        \n",
    "        for doc in responseJson['response']['docs']:\n",
    "            results.append({\n",
    "                \"title\" : doc['headline']['main'],\n",
    "                \"category\": doc['news_desk'],\n",
    "                \"id\": str(uuid.uuid4()),\n",
    "                \"sourceurl\": doc['web_url'],\n",
    "                \"publishdate\": convertDateToInt(searchDate),\n",
    "                \"imageurl\": getArticleImageUrl(doc),\n",
    "                \"content\": doc['lead_paragraph']\n",
    "            })              \n",
    "            \n",
    "        \n",
    "    else:\n",
    "        print(f'Unable to get data. Date: {searchDateString} Code: {response.status_code}')\n",
    "    \n",
    "        raise Exception(\"Unable to get data\")\n",
    "        \n",
    "    \n",
    "    \n",
    "    return results"
   ]
  },
  {
   "cell_type": "code",
   "execution_count": 6,
   "metadata": {},
   "outputs": [],
   "source": [
    "def convertDateToString(searchDate):\n",
    "    ''' Converts the provided date to string in \"YYYY-MM-DD\" format\n",
    "    \n",
    "    Accepts : searchDate (datetime) date to convert to string\n",
    "    \n",
    "    Returns : (string) formated string\n",
    "    '''\n",
    "    \n",
    "    return searchDate.strftime('%Y-%m-%d')"
   ]
  },
  {
   "cell_type": "code",
   "execution_count": 34,
   "metadata": {},
   "outputs": [],
   "source": [
    "def getArticleImageUrl(doc):\n",
    "    ''' Gets the url to article; ensure the media type is image\n",
    "    \n",
    "    Accepts : Dictionary of the article\n",
    "    \n",
    "    Returns : (string) Url to the image; could be empty\n",
    "    '''\n",
    "    \n",
    "    sourceUrl = \"\"\n",
    "    \n",
    "    for media in doc[\"multimedia\"]:\n",
    "        \n",
    "        if (media['type'] == 'image'):\n",
    "            sourceUrl = f'https://static01.nyt.com/{media[\"url\"]}'\n",
    "            \n",
    "            break\n",
    "            \n",
    "    return sourceUrl"
   ]
  },
  {
   "cell_type": "code",
   "execution_count": 33,
   "metadata": {},
   "outputs": [],
   "source": [
    "def convertDateToInt(searchDate):\n",
    "    ''' Converts provided date to int in \"YYYYMMDD\" format\n",
    "    \n",
    "    Accepts : searchDate (datetime) date to convert to int\n",
    "    \n",
    "    Returns : (int) converted date\n",
    "    '''\n",
    "\n",
    "    return int(searchDate.strftime('%Y%m%d'))"
   ]
  },
  {
   "cell_type": "code",
   "execution_count": 39,
   "metadata": {},
   "outputs": [
    {
     "name": "stdout",
     "output_type": "stream",
     "text": [
      "Requesting data from API: 2018-08-01\n",
      "completed\n"
     ]
    }
   ],
   "source": [
    "searchDate = datetime.datetime(2018,8,1)\n",
    "\n",
    "result = getArticlesForDate(searchDate)\n",
    "\n",
    "print('completed')"
   ]
  },
  {
   "cell_type": "code",
   "execution_count": 40,
   "metadata": {},
   "outputs": [
    {
     "data": {
      "text/plain": [
       "[{'title': 'Stumbles? What Stumbles? Big Tech Is as Strong as Ever',\n",
       "  'category': 'Business',\n",
       "  'id': '313d8400-10c3-496d-85a2-7d5ded6fde38',\n",
       "  'sourceurl': 'https://www.nytimes.com/2018/08/01/technology/big-tech-earnings-stumbles.html',\n",
       "  'publishdate': 20180801,\n",
       "  'imageurl': 'https://static01.nyt.com/images/2018/08/02/business/02State-illo/02State.illo-articleLarge.gif',\n",
       "  'content': 'You may have heard that the tech giants are on their heels.'},\n",
       " {'title': 'Gaza and Google Translate: Covering the Conflict When You Don’t Speak the Language',\n",
       "  'category': 'Business',\n",
       "  'id': 'f1230c8b-e05f-4663-ae0f-4163d077d0c5',\n",
       "  'sourceurl': 'https://www.nytimes.com/2018/08/01/technology/personaltech/israel-gaza-google-translate.html',\n",
       "  'publishdate': 20180801,\n",
       "  'imageurl': 'https://static01.nyt.com/images/2018/08/02/business/02techusing1/merlin_141937026_d649cf4c-e5be-4a10-8b14-3782498fcfef-articleLarge.jpg',\n",
       "  'content': 'How do New York Times journalists use technology in their jobs and in their personal lives? David M. Halbfinger, bureau chief for The Times in Jerusalem, discussed the tech he’s using.'},\n",
       " {'title': 'Tesla Reports Another Big Loss, but Sees Only Profit Ahead',\n",
       "  'category': 'Business',\n",
       "  'id': '0f2aec51-db5b-4db9-ae80-6d00b100eefc',\n",
       "  'sourceurl': 'https://www.nytimes.com/2018/08/01/business/tesla-earnings-elon-musk.html',\n",
       "  'publishdate': 20180801,\n",
       "  'imageurl': 'https://static01.nyt.com/images/2018/08/02/business/02tesla-print/merlin_140495517_d207b576-e1d2-415d-a087-3f2b75e638e5-articleLarge.jpg',\n",
       "  'content': 'Tesla recorded another huge loss last quarter and burned through hundreds of millions of dollars in cash as it ramped up production of its first mass-market model.'},\n",
       " {'title': 'What Is QAnon: Explaining the Internet Conspiracy Theory That Showed Up at a Trump Rally',\n",
       "  'category': 'Politics',\n",
       "  'id': '72c79d10-1af4-4dc9-be3b-bf529c000508',\n",
       "  'sourceurl': 'https://www.nytimes.com/2018/08/01/us/politics/what-is-qanon.html',\n",
       "  'publishdate': 20180801,\n",
       "  'imageurl': 'https://static01.nyt.com/images/2018/08/02/us/politics/02QAnon1/merlin_141917688_aea548af-cbd7-43d7-87da-41f80de247a3-articleLarge.jpg',\n",
       "  'content': 'Those watching President Trump’s rally in Tampa on Tuesday couldn’t help but be exposed to a fringe movement that discusses several loosely connected and vaguely defined — and baseless — conspiracy theories.'},\n",
       " {'title': 'Trump Tariffs Are Lifting Profits, Steel Giant ArcelorMittal Says',\n",
       "  'category': 'Business',\n",
       "  'id': '45f5ffba-f99a-467c-841c-069221e52964',\n",
       "  'sourceurl': 'https://www.nytimes.com/2018/08/01/business/trump-steel-tariffs-arcelor-mittal.html',\n",
       "  'publishdate': 20180801,\n",
       "  'imageurl': 'https://static01.nyt.com/images/2018/08/02/business/02steel-print/02steel-articleLarge.jpg',\n",
       "  'content': 'LONDON — Lakshmi N. Mittal, the chairman and chief executive of ArcelorMittal, the world’s biggest steel maker, is the rare business leader who applauds President Trump’s protectionist approach to trade.'},\n",
       " {'title': 'Find Recently Lost Files on Your Mac',\n",
       "  'category': 'Business',\n",
       "  'id': '68af1bab-f91e-4fd9-8e87-ba9b4a991439',\n",
       "  'sourceurl': 'https://www.nytimes.com/2018/08/01/technology/personaltech/mac-find-lost-files.html',\n",
       "  'publishdate': 20180801,\n",
       "  'imageurl': 'https://static01.nyt.com/images/2018/08/02/technology/personaltech/02techtipwebART/02techtipwebART-articleLarge.jpg',\n",
       "  'content': 'Q. Windows 10 has that Timeline thing, but on a Mac, how can I find a file I know I worked on recently? Especially if I don’t remember what I called it or where I stored it?'},\n",
       " {'title': 'Crowds, Stoked by Trump’s Rhetoric, Increase Their Ire Toward the Press',\n",
       "  'category': 'Business',\n",
       "  'id': '15c67f6b-4ac5-40b1-98cb-a15c56898187',\n",
       "  'sourceurl': 'https://www.nytimes.com/2018/08/01/business/media/trump-press-jim-acosta.html',\n",
       "  'publishdate': 20180801,\n",
       "  'imageurl': 'https://static01.nyt.com/images/2018/08/01/business/01TrumpMedia/merlin_141917496_0490a8cf-1391-4db9-83de-614e580e5247-articleLarge.jpg',\n",
       "  'content': 'The baby wearing a “CNN Sucks!” pin pretty much summed it up.'},\n",
       " {'title': 'China’s Plan to Win Friends and Influence Includes Ski Slopes and Spas',\n",
       "  'category': 'Business',\n",
       "  'id': 'e1f30d7f-882e-436d-b982-2cff0d2ca6c6',\n",
       "  'sourceurl': 'https://www.nytimes.com/2018/08/01/business/china-belt-and-road.html',\n",
       "  'publishdate': 20180801,\n",
       "  'imageurl': 'https://static01.nyt.com/images/2018/07/27/business/27beltandroad-print-dress/merlin_139798491_739cca5e-fd20-43f2-aef8-44bb899f6bd8-articleLarge.jpg',\n",
       "  'content': 'HONG KONG — In Thailand, a theater rigged with hydraulic seats will give moviegoers the sensation of flight. In Australia, an indoor ski slope is going up near the beaches of the Gold Coast. In the Czech Republic, a spa with Chinese medicine is under construction in the southern wine country.'},\n",
       " {'title': 'Autoplay Videos Are Not Going Away. Here’s How to Fight Them.',\n",
       "  'category': 'Business',\n",
       "  'id': '4aa7ec64-78d8-40c5-87d0-be45797e6eec',\n",
       "  'sourceurl': 'https://www.nytimes.com/2018/08/01/technology/personaltech/autoplay-video-fight-them.html',\n",
       "  'publishdate': 20180801,\n",
       "  'imageurl': 'https://static01.nyt.com/images/2018/08/02/business/02techfix-copy/02techfix-copy-articleLarge-v2.jpg',\n",
       "  'content': 'The web is in a dark place, as I plan to examine in the next several columns. If you need proof, look no further than autoplay videos, the first example.'},\n",
       " {'title': 'Obama Endorses Dozens of Democrats, Rewarding Diversity and Loyalty',\n",
       "  'category': 'Politics',\n",
       "  'id': '05833bac-c61e-4a5b-abbd-794c3b753ec6',\n",
       "  'sourceurl': 'https://www.nytimes.com/2018/08/01/us/politics/obama-midterms.html',\n",
       "  'publishdate': 20180801,\n",
       "  'imageurl': 'https://static01.nyt.com/images/2018/08/02/us/politics/02obama1/merlin_141403947_f762d3a8-9b32-47f7-9ed6-3141dc6cd6f2-articleLarge.jpg',\n",
       "  'content': 'Former President Barack Obama took a public step back into the electoral arena on Wednesday, issuing a slate of 81 endorsements for Democrats running in the 2018 elections and giving his stamp of approval to more than a dozen veterans of his administration and election campaigns who are seeking office in their own right.'}]"
      ]
     },
     "execution_count": 40,
     "metadata": {},
     "output_type": "execute_result"
    }
   ],
   "source": [
    "result"
   ]
  },
  {
   "cell_type": "code",
   "execution_count": null,
   "metadata": {},
   "outputs": [],
   "source": []
  },
  {
   "cell_type": "code",
   "execution_count": 32,
   "metadata": {},
   "outputs": [
    {
     "data": {
      "text/plain": [
       "20180701"
      ]
     },
     "execution_count": 32,
     "metadata": {},
     "output_type": "execute_result"
    }
   ],
   "source": [
    "dateValue = \"2019-07-01T03:27:07+0000\"\n",
    "\n",
    "searchDate = datetime.datetime(2018,7,1)\n",
    "\n",
    "int(searchDate.strftime('%Y%m%d'))"
   ]
  },
  {
   "cell_type": "code",
   "execution_count": null,
   "metadata": {},
   "outputs": [],
   "source": []
  }
 ],
 "metadata": {
  "kernelspec": {
   "display_name": "Python 3",
   "language": "python",
   "name": "python3"
  },
  "language_info": {
   "codemirror_mode": {
    "name": "ipython",
    "version": 3
   },
   "file_extension": ".py",
   "mimetype": "text/x-python",
   "name": "python",
   "nbconvert_exporter": "python",
   "pygments_lexer": "ipython3",
   "version": "3.7.1"
  }
 },
 "nbformat": 4,
 "nbformat_minor": 2
}
