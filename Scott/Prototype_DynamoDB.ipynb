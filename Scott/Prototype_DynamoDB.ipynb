{
 "cells": [
  {
   "cell_type": "code",
   "execution_count": null,
   "metadata": {},
   "outputs": [],
   "source": []
  },
  {
   "cell_type": "code",
   "execution_count": 5,
   "metadata": {},
   "outputs": [],
   "source": [
    "import json\n",
    "import datetime\n",
    "import boto3\n",
    "from boto3.dynamodb.conditions import Key, Attr\n",
    "\n",
    "from secrets import AwsAccesKeyID\n",
    "from secrets import AwsScretKey"
   ]
  },
  {
   "cell_type": "code",
   "execution_count": 4,
   "metadata": {},
   "outputs": [
    {
     "name": "stdout",
     "output_type": "stream",
     "text": [
      "completed\n"
     ]
    }
   ],
   "source": [
    "#- Reference Dynamo\n",
    "dynamodb = boto3.resource('dynamodb',\n",
    "                        region_name='us-west-2',\n",
    "                        aws_access_key_id = AwsAccesKeyID,\n",
    "                        aws_secret_access_key = AwsScretKey)\n",
    "\n",
    "#- Access Table\n",
    "dynamoTable = dynamodb.Table(\"chat\")\n",
    "\n",
    "print(\"completed\")"
   ]
  },
  {
   "cell_type": "code",
   "execution_count": 6,
   "metadata": {},
   "outputs": [],
   "source": [
    "#- Scan Table\n",
    "response = dynamoTable.scan(Key('chat_id'))"
   ]
  },
  {
   "cell_type": "code",
   "execution_count": 7,
   "metadata": {},
   "outputs": [
    {
     "data": {
      "text/plain": [
       "{'Items': [{'chat_id': '2', 'timestamp': Decimal('1561431042000')},\n",
       "  {'chat_id': '1', 'timestamp': Decimal('1561429242000')},\n",
       "  {'message': 'yeah totally!',\n",
       "   'shopping_list': [['apples', 'oranges'], ['Straw', 'blue berry', 'stuff']],\n",
       "   'chat_id': '5',\n",
       "   'timestamp': Decimal('1561417617000')},\n",
       "  {'message': 'yeah totally!',\n",
       "   'chat_id': '4',\n",
       "   'timestamp': Decimal('1561417617000')},\n",
       "  {'chat_id': '3', 'timestamp': Decimal('1561417617000')}],\n",
       " 'Count': 5,\n",
       " 'ScannedCount': 5,\n",
       " 'ResponseMetadata': {'RequestId': '6OG6BQ0Q5PLP5EB48PANG662R7VV4KQNSO5AEMVJF66Q9ASUAAJG',\n",
       "  'HTTPStatusCode': 200,\n",
       "  'HTTPHeaders': {'server': 'Server',\n",
       "   'date': 'Wed, 03 Jul 2019 19:47:07 GMT',\n",
       "   'content-type': 'application/x-amz-json-1.0',\n",
       "   'content-length': '500',\n",
       "   'connection': 'keep-alive',\n",
       "   'x-amzn-requestid': '6OG6BQ0Q5PLP5EB48PANG662R7VV4KQNSO5AEMVJF66Q9ASUAAJG',\n",
       "   'x-amz-crc32': '77317701'},\n",
       "  'RetryAttempts': 0}}"
      ]
     },
     "execution_count": 7,
     "metadata": {},
     "output_type": "execute_result"
    }
   ],
   "source": [
    "response"
   ]
  },
  {
   "cell_type": "code",
   "execution_count": null,
   "metadata": {},
   "outputs": [],
   "source": [
    "#1561417617000\n"
   ]
  },
  {
   "cell_type": "code",
   "execution_count": 13,
   "metadata": {},
   "outputs": [
    {
     "name": "stdout",
     "output_type": "stream",
     "text": [
      "completed\n"
     ]
    }
   ],
   "source": [
    "testTable = dynamodb.create_table(\n",
    "    TableName=\"Test\",\n",
    "    KeySchema=[\n",
    "        {\n",
    "            'AttributeName' : \"Date\",\n",
    "            'KeyType': \"HASH\"\n",
    "        },\n",
    "        {\n",
    "            'AttributeName' : \"Info\",\n",
    "            'KeyType': \"RANGE\"\n",
    "        }\n",
    "    ],\n",
    "    AttributeDefinitions=[\n",
    "        {\n",
    "            'AttributeName' : \"Date\",\n",
    "            'AttributeType': 'N'\n",
    "        },\n",
    "        {\n",
    "            'AttributeName' : \"Info\",\n",
    "            'AttributeType': 'S'\n",
    "        }\n",
    "    ],\n",
    "    ProvisionedThroughput={\n",
    "        'ReadCapacityUnits': 5,\n",
    "        'WriteCapacityUnits': 5\n",
    "    }\n",
    "    )\n",
    "\n",
    "print('completed')"
   ]
  },
  {
   "cell_type": "code",
   "execution_count": 15,
   "metadata": {},
   "outputs": [
    {
     "data": {
      "text/plain": [
       "{'ResponseMetadata': {'RequestId': 'MMFDI28AJDEAF9O676S5H7PTSFVV4KQNSO5AEMVJF66Q9ASUAAJG',\n",
       "  'HTTPStatusCode': 200,\n",
       "  'HTTPHeaders': {'server': 'Server',\n",
       "   'date': 'Wed, 03 Jul 2019 20:03:22 GMT',\n",
       "   'content-type': 'application/x-amz-json-1.0',\n",
       "   'content-length': '2',\n",
       "   'connection': 'keep-alive',\n",
       "   'x-amzn-requestid': 'MMFDI28AJDEAF9O676S5H7PTSFVV4KQNSO5AEMVJF66Q9ASUAAJG',\n",
       "   'x-amz-crc32': '2745614147'},\n",
       "  'RetryAttempts': 0}}"
      ]
     },
     "execution_count": 15,
     "metadata": {},
     "output_type": "execute_result"
    }
   ],
   "source": [
    "testTable.put_item(Item={\n",
    "    \"Date\" : 123,\n",
    "    \"Info\" : \"kdfkdjf\"\n",
    "})"
   ]
  },
  {
   "cell_type": "code",
   "execution_count": null,
   "metadata": {},
   "outputs": [],
   "source": []
  },
  {
   "cell_type": "code",
   "execution_count": 18,
   "metadata": {},
   "outputs": [
    {
     "name": "stdout",
     "output_type": "stream",
     "text": [
      "--> Completed\n"
     ]
    }
   ],
   "source": [
    "\n",
    "\n",
    "testTable2 = dynamodb.create_table(\n",
    "    TableName = \"Test2\",\n",
    "    # Declare Primary Key with KeySchema\n",
    "    KeySchema =[\n",
    "        {\n",
    "            \"AttributeName\" : \"ID\",\n",
    "            \"KeyType\": \"HASH\"\n",
    "        }\n",
    "    ],\n",
    "    # Declare AttributeDefinition\n",
    "    AttributeDefinitions=[\n",
    "        {\n",
    "            \"AttributeName\" : \"ID\",\n",
    "            \"AttributeType\" : \"S\"\n",
    "        }\n",
    "    ],\n",
    "    ProvisionedThroughput={\n",
    "        'ReadCapacityUnits': 5,\n",
    "        'WriteCapacityUnits': 5\n",
    "    }\n",
    "    )\n",
    "\n",
    "print(\"--> Completed\")"
   ]
  },
  {
   "cell_type": "code",
   "execution_count": 19,
   "metadata": {},
   "outputs": [
    {
     "name": "stdout",
     "output_type": "stream",
     "text": [
      "completed loading file\n"
     ]
    }
   ],
   "source": [
    "sourceFile = \"articles_all.json\"\n",
    "    \n",
    "with open(sourceFile) as jsonFile:\n",
    "    sourceData = json.load(jsonFile)\n",
    "    \n",
    "print(\"completed loading file\")"
   ]
  },
  {
   "cell_type": "code",
   "execution_count": 32,
   "metadata": {},
   "outputs": [
    {
     "name": "stdout",
     "output_type": "stream",
     "text": [
      "Completed secondary index\n"
     ]
    }
   ],
   "source": [
    "#-- Create Secondary Index\n",
    "dynamodbClient = boto3.client('dynamodb',\n",
    "                        region_name='us-west-2',\n",
    "                        aws_access_key_id = AwsAccesKeyID,\n",
    "                        aws_secret_access_key = AwsScretKey)\n",
    "\n",
    "dynamodbClient.update_table(\n",
    "    TableName = \"Test2\",\n",
    "    AttributeDefinitions =[\n",
    "        {\n",
    "            \"AttributeName\" : \"publishdate\",\n",
    "            \"AttributeType\" : \"N\"\n",
    "        }\n",
    "    ],\n",
    "    GlobalSecondaryIndexUpdates=[\n",
    "        {\n",
    "            \"Create\" : {\n",
    "                \"IndexName\": \"PublishDateIndex\",\n",
    "                \"KeySchema\" : [\n",
    "                    {\n",
    "                        \"AttributeName\" : \"publishdate\",\n",
    "                        \"KeyType\" : \"HASH\"\n",
    "                    }\n",
    "                ],\n",
    "                \"Projection\" : {\n",
    "                    \"ProjectionType\" : \"ALL\"\n",
    "                },\n",
    "                \"ProvisionedThroughput\": {\n",
    "                        \"ReadCapacityUnits\": 5,\n",
    "                        \"WriteCapacityUnits\": 5,\n",
    "                }\n",
    "            }\n",
    "        }\n",
    "    ]\n",
    ")\n",
    "\n",
    "print(\"Completed secondary index\")"
   ]
  },
  {
   "cell_type": "code",
   "execution_count": 25,
   "metadata": {},
   "outputs": [
    {
     "name": "stdout",
     "output_type": "stream",
     "text": [
      "completed\n"
     ]
    }
   ],
   "source": [
    "counter = 0\n",
    "\n",
    "for article in sourceData['articles']:\n",
    "    \n",
    "    sourceImageUrl = article['imageurl']\n",
    "    \n",
    "    if (sourceImageUrl == \"\"):\n",
    "        sourceImageUrl = \"NA\"\n",
    "    \n",
    "    testTable2.put_item(Item={\n",
    "        \"ID\" : article[\"id\"],\n",
    "        \"title\" : article['title'],\n",
    "        \"sourceurl\" : article['sourceurl'],\n",
    "        \"imageurl\" : sourceImageUrl,\n",
    "        \"publishdate\" : int(article['publishdate'])\n",
    "        })\n",
    "    \n",
    "    \n",
    "    counter +=1\n",
    "    if (counter == 20):\n",
    "        break\n",
    "        \n",
    "print(\"completed\")"
   ]
  },
  {
   "cell_type": "code",
   "execution_count": 28,
   "metadata": {},
   "outputs": [
    {
     "data": {
      "text/plain": [
       "{'Items': [{'publishdate': Decimal('20180101'),\n",
       "   'ID': '02812443-4a7a-47c0-9f18-6f22fba18274',\n",
       "   'sourceurl': 'https://www.nytimes.com/2018/01/01/business/media/rupert-murdoch-21st-century-fox-disney.html',\n",
       "   'imageurl': 'https://static01.nyt.com/images/2018/01/02/business/02MURDOCHEMPIRE-01/02MURDOCHEMPIRE-1-articleLarge-v2.jpg',\n",
       "   'title': 'With Disney Deal Looming, Murdoch’s Empire Is Fractured'}],\n",
       " 'Count': 1,\n",
       " 'ScannedCount': 1,\n",
       " 'ResponseMetadata': {'RequestId': '61BTDOIPE8HM0HG2KPE7EL2L2NVV4KQNSO5AEMVJF66Q9ASUAAJG',\n",
       "  'HTTPStatusCode': 200,\n",
       "  'HTTPHeaders': {'server': 'Server',\n",
       "   'date': 'Wed, 03 Jul 2019 20:31:51 GMT',\n",
       "   'content-type': 'application/x-amz-json-1.0',\n",
       "   'content-length': '437',\n",
       "   'connection': 'keep-alive',\n",
       "   'x-amzn-requestid': '61BTDOIPE8HM0HG2KPE7EL2L2NVV4KQNSO5AEMVJF66Q9ASUAAJG',\n",
       "   'x-amz-crc32': '1852646455'},\n",
       "  'RetryAttempts': 0}}"
      ]
     },
     "execution_count": 28,
     "metadata": {},
     "output_type": "execute_result"
    }
   ],
   "source": [
    "#-- Query By ID\n",
    "queryResponse = testTable2.query(KeyConditionExpression=Key('ID').eq('02812443-4a7a-47c0-9f18-6f22fba18274'))\n",
    "\n",
    "queryResponse"
   ]
  },
  {
   "cell_type": "code",
   "execution_count": 34,
   "metadata": {},
   "outputs": [
    {
     "data": {
      "text/plain": [
       "{'Items': [{'publishdate': Decimal('20180101'),\n",
       "   'ID': 'e59f32db-cc2d-4da4-bb07-33c80cd8650e',\n",
       "   'sourceurl': 'https://www.nytimes.com/2018/01/01/business/airlines-travel-entertainment.html',\n",
       "   'imageurl': 'https://static01.nyt.com/images/2018/01/02/business/02ITINERARIES1/merlin_131591759_4fc40064-d694-436f-a807-2aca524d21eb-articleLarge.jpg',\n",
       "   'title': 'Those Seatback Screens on Planes Are Starting to Disappear'},\n",
       "  {'publishdate': Decimal('20180101'),\n",
       "   'ID': '02cbbbc0-1dbf-4476-9c1a-fa1cd829d089',\n",
       "   'sourceurl': 'https://www.nytimes.com/2018/01/01/business/sydney-compass-richard-cousins.html',\n",
       "   'imageurl': 'https://static01.nyt.com/images/2018/01/02/business/02compass/02compass-articleLarge.jpg',\n",
       "   'title': 'Chief of Compass, U.K. Catering Giant, Is Killed in Plane Crash'},\n",
       "  {'publishdate': Decimal('20180101'),\n",
       "   'ID': '38f107cc-4c22-4c2a-b579-b57795dc73e0',\n",
       "   'sourceurl': 'https://www.nytimes.com/2018/01/01/business/energy-environment/climate-change-enzymes-laundry.html',\n",
       "   'imageurl': 'https://static01.nyt.com/images/2017/03/16/business/00ENZYMES2/00ENZYMES2-articleLarge.jpg',\n",
       "   'title': 'Fighting Climate Change, One Laundry Load at a Time'},\n",
       "  {'publishdate': Decimal('20180101'),\n",
       "   'ID': '02812443-4a7a-47c0-9f18-6f22fba18274',\n",
       "   'sourceurl': 'https://www.nytimes.com/2018/01/01/business/media/rupert-murdoch-21st-century-fox-disney.html',\n",
       "   'imageurl': 'https://static01.nyt.com/images/2018/01/02/business/02MURDOCHEMPIRE-01/02MURDOCHEMPIRE-1-articleLarge-v2.jpg',\n",
       "   'title': 'With Disney Deal Looming, Murdoch’s Empire Is Fractured'},\n",
       "  {'publishdate': Decimal('20180101'),\n",
       "   'ID': '73510fa6-095c-4159-b5cc-c148e302de40',\n",
       "   'sourceurl': 'https://www.nytimes.com/2018/01/01/technology/personaltech/copying-iphone-messages-to-the-computer.html',\n",
       "   'imageurl': 'https://static01.nyt.com/images/2018/01/02/technology/personaltech/02techtipwebART/02techtipwebART-articleLarge.jpg',\n",
       "   'title': 'Copying iPhone Messages to the Computer'},\n",
       "  {'publishdate': Decimal('20180101'),\n",
       "   'ID': '6b67d315-19f9-4d5e-b32d-307bd9bd42e1',\n",
       "   'sourceurl': 'https://www.nytimes.com/2018/01/01/technology/kaspersky-lab-antivirus.html',\n",
       "   'imageurl': 'https://static01.nyt.com/images/2018/01/02/technology/02ANTIVIRUS/merlin_131428154_39e28f90-db01-48d2-9d68-c2b118dc8d10-articleLarge.jpg',\n",
       "   'title': 'How Antivirus Software Can Be Turned Into a Tool for Spying'},\n",
       "  {'publishdate': Decimal('20180101'),\n",
       "   'ID': '322a2b9e-a088-4c63-a2e9-7e88dac9d33d',\n",
       "   'sourceurl': 'https://www.nytimes.com/interactive/2017/12/31/business/A-Big-Year-for-the-Stock-Market.html',\n",
       "   'imageurl': 'https://static01.nyt.com/images/2017/12/31/business/A-Big-Year-for-the-Stock-Market-1514767052613/A-Big-Year-for-the-Stock-Market-1514767052613-articleLarge.png',\n",
       "   'title': 'A Big Year for the Stock Market'},\n",
       "  {'publishdate': Decimal('20180101'),\n",
       "   'ID': '5c952a0d-0ae9-4511-860d-9425f277ecc6',\n",
       "   'sourceurl': 'https://www.nytimes.com/2017/12/31/business/start-of-a-new-year-of-trading-and-jobs-report-from-december.html',\n",
       "   'imageurl': 'NA',\n",
       "   'title': 'Start of a New Year of Trading, and Jobs Report From December'}],\n",
       " 'Count': 8,\n",
       " 'ScannedCount': 8,\n",
       " 'ResponseMetadata': {'RequestId': 'B11T0VLNIUPRDDMRAIB8BJD2RRVV4KQNSO5AEMVJF66Q9ASUAAJG',\n",
       "  'HTTPStatusCode': 200,\n",
       "  'HTTPHeaders': {'server': 'Server',\n",
       "   'date': 'Wed, 03 Jul 2019 20:42:00 GMT',\n",
       "   'content-type': 'application/x-amz-json-1.0',\n",
       "   'content-length': '3147',\n",
       "   'connection': 'keep-alive',\n",
       "   'x-amzn-requestid': 'B11T0VLNIUPRDDMRAIB8BJD2RRVV4KQNSO5AEMVJF66Q9ASUAAJG',\n",
       "   'x-amz-crc32': '3727778231'},\n",
       "  'RetryAttempts': 0}}"
      ]
     },
     "execution_count": 34,
     "metadata": {},
     "output_type": "execute_result"
    }
   ],
   "source": [
    "#-- Query By Publish Date\n",
    "query2Response = testTable2.query(IndexName=\"PublishDateIndex\", \n",
    "                                  KeyConditionExpression=Key(\"publishdate\").eq(20180101))\n",
    "\n",
    "query2Response"
   ]
  },
  {
   "cell_type": "code",
   "execution_count": 40,
   "metadata": {},
   "outputs": [
    {
     "name": "stdout",
     "output_type": "stream",
     "text": [
      "Those Seatback Screens on Planes Are Starting to Disappear\n",
      "----\n",
      "Chief of Compass, U.K. Catering Giant, Is Killed in Plane Crash\n",
      "----\n",
      "Fighting Climate Change, One Laundry Load at a Time\n",
      "----\n",
      "With Disney Deal Looming, Murdoch’s Empire Is Fractured\n",
      "----\n",
      "Copying iPhone Messages to the Computer\n",
      "----\n",
      "How Antivirus Software Can Be Turned Into a Tool for Spying\n",
      "----\n",
      "A Big Year for the Stock Market\n",
      "----\n",
      "Start of a New Year of Trading, and Jobs Report From December\n",
      "----\n"
     ]
    }
   ],
   "source": [
    "for item in query2Response['Items']:\n",
    "    print(item['title'])\n",
    "    print(\"----\")"
   ]
  },
  {
   "cell_type": "code",
   "execution_count": null,
   "metadata": {},
   "outputs": [],
   "source": []
  }
 ],
 "metadata": {
  "kernelspec": {
   "display_name": "Python 3",
   "language": "python",
   "name": "python3"
  },
  "language_info": {
   "codemirror_mode": {
    "name": "ipython",
    "version": 3
   },
   "file_extension": ".py",
   "mimetype": "text/x-python",
   "name": "python",
   "nbconvert_exporter": "python",
   "pygments_lexer": "ipython3",
   "version": "3.7.1"
  }
 },
 "nbformat": 4,
 "nbformat_minor": 2
}
