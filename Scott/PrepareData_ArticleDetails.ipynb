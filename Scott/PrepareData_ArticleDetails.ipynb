{
 "cells": [
  {
   "cell_type": "markdown",
   "metadata": {},
   "source": [
    "### Article Details\n",
    "The website is to allow the user to select a date on the calendar and then the list of the articles that were used in the prediction are to be displayed. The endpoint that powers this is to accept the date and then return the titles of the articles as well as the source URL.  There are serve thousand of these articles and these need to placed in a repo.  \n",
    "\n",
    "AWS DynamoDB is to be used to store the articles metadata."
   ]
  },
  {
   "cell_type": "markdown",
   "metadata": {},
   "source": [
    "#### 1 Import Dependency\n",
    "The keys for AWS are stored within secrets.py."
   ]
  },
  {
   "cell_type": "code",
   "execution_count": 1,
   "metadata": {},
   "outputs": [],
   "source": [
    "import json\n",
    "import datetime\n",
    "import boto3\n",
    "from boto3.dynamodb.conditions import Key, Attr\n",
    "\n",
    "from secrets import AwsAccesKeyID\n",
    "from secrets import AwsScretKey"
   ]
  },
  {
   "cell_type": "markdown",
   "metadata": {},
   "source": [
    "#### 2 Const\n",
    "Define the variables that are to used through the notebook"
   ]
  },
  {
   "cell_type": "code",
   "execution_count": 2,
   "metadata": {},
   "outputs": [],
   "source": [
    "awsRegionName = \"us-west-2\"\n",
    "tableName = \"articlesRepo\"\n",
    "publishDateIndexName = \"PublishDateIndex\""
   ]
  },
  {
   "cell_type": "markdown",
   "metadata": {},
   "source": [
    "#### 3 Reference DynamoDB\n",
    "Reference the dynamoDB using information from the secrets.py"
   ]
  },
  {
   "cell_type": "code",
   "execution_count": 3,
   "metadata": {},
   "outputs": [
    {
     "name": "stdout",
     "output_type": "stream",
     "text": [
      "--> Completed reference to dynamodb\n"
     ]
    }
   ],
   "source": [
    "dynamodb = boto3.resource('dynamodb',\n",
    "                        region_name=awsRegionName,\n",
    "                        aws_access_key_id = AwsAccesKeyID,\n",
    "                        aws_secret_access_key = AwsScretKey)\n",
    "\n",
    "print(\"--> Completed reference to dynamodb\")"
   ]
  },
  {
   "cell_type": "markdown",
   "metadata": {},
   "source": [
    "#### 4 Create Table\n",
    "Create table using the ID as primary key"
   ]
  },
  {
   "cell_type": "code",
   "execution_count": 4,
   "metadata": {},
   "outputs": [
    {
     "name": "stdout",
     "output_type": "stream",
     "text": [
      "--> Completed creating table\n"
     ]
    }
   ],
   "source": [
    "repoTable = dynamodb.create_table(\n",
    "    TableName = tableName,\n",
    "    # Declare Primary Key with KeySchema\n",
    "    KeySchema =[\n",
    "        {\n",
    "            \"AttributeName\" : \"ID\",\n",
    "            \"KeyType\": \"HASH\"\n",
    "        }\n",
    "    ],\n",
    "    # Declare AttributeDefinition\n",
    "    AttributeDefinitions=[\n",
    "        {\n",
    "            \"AttributeName\" : \"ID\",\n",
    "            \"AttributeType\" : \"S\"\n",
    "        }\n",
    "    ],\n",
    "    ProvisionedThroughput={\n",
    "        'ReadCapacityUnits': 1,\n",
    "        'WriteCapacityUnits': 1\n",
    "    }\n",
    "    )\n",
    "\n",
    "print(\"--> Completed creating table\")"
   ]
  },
  {
   "cell_type": "markdown",
   "metadata": {},
   "source": [
    "#### 5 Create Secondary Index\n",
    "Index is used for querying by date. Must wait until the resource has been created before adding the secondary index; wait 10 seconds before running."
   ]
  },
  {
   "cell_type": "code",
   "execution_count": 6,
   "metadata": {},
   "outputs": [
    {
     "name": "stdout",
     "output_type": "stream",
     "text": [
      "--> Completed secondary index\n"
     ]
    }
   ],
   "source": [
    "dynamodbClient = boto3.client('dynamodb',\n",
    "                        region_name=awsRegionName,\n",
    "                        aws_access_key_id = AwsAccesKeyID,\n",
    "                        aws_secret_access_key = AwsScretKey)\n",
    "\n",
    "dynamodbClient.update_table(\n",
    "    TableName = tableName,\n",
    "    AttributeDefinitions =[\n",
    "        {\n",
    "            \"AttributeName\" : \"publishdate\",\n",
    "            \"AttributeType\" : \"N\"\n",
    "        }\n",
    "    ],\n",
    "    GlobalSecondaryIndexUpdates=[\n",
    "        {\n",
    "            \"Create\" : {\n",
    "                \"IndexName\": \"PublishDateIndex\",\n",
    "                \"KeySchema\" : [\n",
    "                    {\n",
    "                        \"AttributeName\" : \"publishdate\",\n",
    "                        \"KeyType\" : \"HASH\"\n",
    "                    }\n",
    "                ],\n",
    "                \"Projection\" : {\n",
    "                    \"ProjectionType\" : \"ALL\"\n",
    "                },\n",
    "                \"ProvisionedThroughput\": {\n",
    "                        \"ReadCapacityUnits\": 1,\n",
    "                        \"WriteCapacityUnits\": 1,\n",
    "                }\n",
    "            }\n",
    "        }\n",
    "    ]\n",
    ")\n",
    "\n",
    "print(\"--> Completed secondary index\")"
   ]
  },
  {
   "cell_type": "markdown",
   "metadata": {},
   "source": [
    "#### 6 Load Article Data\n",
    ".JSON file contains article information"
   ]
  },
  {
   "cell_type": "code",
   "execution_count": 7,
   "metadata": {},
   "outputs": [
    {
     "name": "stdout",
     "output_type": "stream",
     "text": [
      "--> Completed loading file; number of articles: 6268\n"
     ]
    }
   ],
   "source": [
    "sourceFile = \"articles_all.json\"\n",
    "    \n",
    "with open(sourceFile) as jsonFile:\n",
    "    sourceData = json.load(jsonFile)\n",
    "    \n",
    "print(f\"--> Completed loading file; number of articles: {len(sourceData['articles'])}\")"
   ]
  },
  {
   "cell_type": "markdown",
   "metadata": {},
   "source": [
    "#### 7 Load Articles into Table\n",
    "Using the articles found within the JSON, load into table."
   ]
  },
  {
   "cell_type": "code",
   "execution_count": 16,
   "metadata": {},
   "outputs": [
    {
     "name": "stdout",
     "output_type": "stream",
     "text": [
      "627\n",
      "1254\n",
      "1881\n",
      "2508\n",
      "3135\n",
      "3761\n",
      "4388\n",
      "5015\n",
      "5642\n",
      "-> Completed loading values\n"
     ]
    }
   ],
   "source": [
    "counter = 0\n",
    "reportIncrement = len(sourceData['articles']) / 10\n",
    "reportValue = reportIncrement\n",
    "\n",
    "try:\n",
    "       \n",
    "    for article in sourceData['articles']:\n",
    "    \n",
    "        #- Get Image URL; not all articles have image\n",
    "        sourceImageUrl = article['imageurl']\n",
    "\n",
    "        if (sourceImageUrl == \"\"):\n",
    "            sourceImageUrl = \"NA\"\n",
    "\n",
    "\n",
    "        #- Load Record\n",
    "        repoTable.put_item(Item={\n",
    "            \"ID\" : article[\"id\"],\n",
    "            \"title\" : article['title'],\n",
    "            \"sourceurl\" : article['sourceurl'],\n",
    "            \"imageurl\" : sourceImageUrl,\n",
    "            \"publishdate\" : int(article['publishdate'])\n",
    "            })\n",
    "\n",
    "        \n",
    "        #- Update Counter\n",
    "        counter +=1\n",
    "        \n",
    "        if (counter > reportValue):\n",
    "            print(counter)\n",
    "            reportValue = reportValue + reportIncrement\n",
    "    \n",
    "\n",
    "except Exception as e:\n",
    "    print(e)\n",
    "    print(f\"Error loading data: {counter}\")\n",
    "    \n",
    "        \n",
    "print(\"-> Completed loading values\")"
   ]
  },
  {
   "cell_type": "code",
   "execution_count": null,
   "metadata": {},
   "outputs": [],
   "source": []
  }
 ],
 "metadata": {
  "kernelspec": {
   "display_name": "Python 3",
   "language": "python",
   "name": "python3"
  },
  "language_info": {
   "codemirror_mode": {
    "name": "ipython",
    "version": 3
   },
   "file_extension": ".py",
   "mimetype": "text/x-python",
   "name": "python",
   "nbconvert_exporter": "python",
   "pygments_lexer": "ipython3",
   "version": "3.7.1"
  }
 },
 "nbformat": 4,
 "nbformat_minor": 2
}
