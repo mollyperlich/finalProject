{
 "cells": [
  {
   "cell_type": "markdown",
   "metadata": {},
   "source": [
    "### Prototype DynamoDB: Query\n",
    "Create code that is to be used with the AWS Lamba. It is to accept the date as a parameter, query the DynamoDB and then return the list of articles."
   ]
  },
  {
   "cell_type": "markdown",
   "metadata": {},
   "source": [
    "#### 1 Dependency\n",
    "Have to determine how to connect to DynamoDB in AWS Lamba; within Jupyter Notebook using secrets.py"
   ]
  },
  {
   "cell_type": "code",
   "execution_count": 6,
   "metadata": {},
   "outputs": [],
   "source": [
    "import boto3\n",
    "from boto3.dynamodb.conditions import Key, Attr\n",
    "\n",
    "from secrets import AwsAccesKeyID\n",
    "from secrets import AwsScretKey"
   ]
  },
  {
   "cell_type": "markdown",
   "metadata": {},
   "source": [
    "#### 1 Processing Code\n",
    "Functions used in the query of DynamoDB for the articles"
   ]
  },
  {
   "cell_type": "code",
   "execution_count": 1,
   "metadata": {},
   "outputs": [],
   "source": [
    "def getDynamoDbTable():\n",
    "    ''' Gets the table containing the articles; uses information from secrets.py\n",
    "    \n",
    "    Accept : nothing\n",
    "    \n",
    "    Return : (dynamoDB.Table)\n",
    "    '''\n",
    "    \n",
    "    awsRegionName = \"us-west-2\"\n",
    "    tableName = \"articlesRepo\"\n",
    "       \n",
    "        \n",
    "    #- Connect to DynamoDB\n",
    "    dynamodb = boto3.resource('dynamodb',\n",
    "                        region_name= awsRegionName,\n",
    "                        aws_access_key_id = AwsAccesKeyID,\n",
    "                        aws_secret_access_key = AwsScretKey)\n",
    "\n",
    "    #- Access Table\n",
    "    return dynamodb.Table(tableName)"
   ]
  },
  {
   "cell_type": "code",
   "execution_count": 21,
   "metadata": {},
   "outputs": [],
   "source": [
    "def getArticlesForDate(searchDate):\n",
    "    ''' Gets the articles for the date provided\n",
    "    \n",
    "    Accepts : (int) date to get articles for; \"YYYYMMDD\" format\n",
    "    \n",
    "    Returns : (array) list of the articles found for the date\n",
    "                title: (string) title of article\n",
    "                id: (string) unique identifier of the news article; created when downloaded\n",
    "                sourceurl: (string) Url of the news article on the NY Times website\n",
    "                imageurl: (string) Url to image from the news article; could be empty\n",
    "                publishdate: (int) Date when the article was published, yyyyMMdd\n",
    "    '''\n",
    "    \n",
    "    \n",
    "    #- Check Parameters\n",
    "    if (isinstance(searchDate, int) == False):\n",
    "        raise Exception(\"Search date provided is invalid\")\n",
    "    \n",
    "    \n",
    "    #- Get Table\n",
    "    articleTable = getDynamoDbTable()\n",
    "    \n",
    "    \n",
    "    #- Query \n",
    "    queryResponse = articleTable.query(IndexName = \"PublishDateIndex\",\n",
    "                                        KeyConditionExpression=Key(\"publishdate\").eq(searchDate))\n",
    "    \n",
    "    \n",
    "    #- Create List\n",
    "    articles = []\n",
    "    \n",
    "    for item in queryResponse['Items']:\n",
    "    \n",
    "        articles.append({\n",
    "            'id' : item['ID'],\n",
    "            'sourceurl': item['sourceurl'],\n",
    "            'title' : item['title'],\n",
    "            'imageurl': item['imageurl'],\n",
    "            'publishdate' : int(item['publishdate'])\n",
    "        })\n",
    "    \n",
    "    \n",
    "    return articles  "
   ]
  },
  {
   "cell_type": "code",
   "execution_count": 25,
   "metadata": {},
   "outputs": [
    {
     "data": {
      "text/plain": [
       "[]"
      ]
     },
     "execution_count": 25,
     "metadata": {},
     "output_type": "execute_result"
    }
   ],
   "source": [
    "searchDate = 20140109\n",
    "\n",
    "result = getArticlesForDate(searchDate)\n",
    "\n",
    "result"
   ]
  },
  {
   "cell_type": "code",
   "execution_count": 9,
   "metadata": {},
   "outputs": [],
   "source": [
    "queryResponse = result\n",
    "\n"
   ]
  },
  {
   "cell_type": "code",
   "execution_count": 18,
   "metadata": {},
   "outputs": [],
   "source": [
    "articles = []\n",
    "\n",
    "for item in queryResponse['Items']:\n",
    "    \n",
    "    articles.append({\n",
    "        'id' : item['ID'],\n",
    "        'sourceurl': item['sourceurl'],\n",
    "        'title' : item['title'],\n",
    "        'imageurl': item['imageurl'],\n",
    "        'publishdate' : int(item['publishdate'])\n",
    "    })"
   ]
  },
  {
   "cell_type": "code",
   "execution_count": 19,
   "metadata": {},
   "outputs": [
    {
     "data": {
      "text/plain": [
       "[{'id': '9ceb6551-c43c-4c3e-a65e-8127bbf12516',\n",
       "  'sourceurl': 'https://www.nytimes.com/2019/01/01/realestate/commercial/new-york-commercial-real-estate.html',\n",
       "  'title': 'Recent Commercial Real Estate Transactions',\n",
       "  'imageurl': 'https://static01.nyt.com/images/2019/01/02/realestate/commercial/02trans/02trans-articleLarge.jpg',\n",
       "  'publishdate': 20190101},\n",
       " {'id': '94606fd6-8ab5-4cd2-aa19-361282a486d7',\n",
       "  'sourceurl': 'https://www.nytimes.com/interactive/2019/01/01/business/dealbook/stock-markets-2019.html',\n",
       "  'title': 'Will 2019 Be a Good Year for Investors? Here Are 4 Key Factors Affecting Stocks and the Economy',\n",
       "  'imageurl': 'https://static01.nyt.com/images/2019/01/01/business/market-outlook-2019-1546294800699/market-outlook-2019-1546294800699-articleLarge.png',\n",
       "  'publishdate': 20190101},\n",
       " {'id': '9176a218-683e-43e6-9b2e-b3cb0a0e6ec6',\n",
       "  'sourceurl': 'https://www.nytimes.com/2019/01/01/business/timber-wood-construction-real-estate.html',\n",
       "  'title': 'Log Cabins? No, These Wooden Buildings Are High-Rises',\n",
       "  'imageurl': 'https://static01.nyt.com/images/2019/01/02/business/02TIMBER-01/merlin_148337145_35a16718-b1b5-4806-8963-5a587c843952-articleLarge.jpg',\n",
       "  'publishdate': 20190101},\n",
       " {'id': 'e21f2682-25a4-4598-ba8b-5060188d2659',\n",
       "  'sourceurl': 'https://www.nytimes.com/2019/01/01/business/media/podcasts-hollywood-tv-shows.html',\n",
       "  'title': 'In the Race for Content, Hollywood Is Buying Up Hit Podcasts',\n",
       "  'imageurl': 'https://static01.nyt.com/images/2018/12/28/business/00PODTV-01/00PODTV-01-articleLarge.jpg',\n",
       "  'publishdate': 20190101},\n",
       " {'id': '6f71e4fb-6bc9-4396-b469-24d5be4d1bc3',\n",
       "  'sourceurl': 'https://www.nytimes.com/2019/01/01/technology/big-tech-troubled-just-getting-started.html',\n",
       "  'title': 'Big Tech May Look Troubled, but It’s Just Getting Started',\n",
       "  'imageurl': 'https://static01.nyt.com/images/2018/12/27/business/00bigtech01/merlin_148372275_bad88144-35fb-49f7-9828-0c6c5e0d8810-articleLarge.jpg',\n",
       "  'publishdate': 20190101},\n",
       " {'id': '8194fb03-dca8-420c-92b2-1ff0d330500f',\n",
       "  'sourceurl': 'https://www.nytimes.com/2019/01/01/business/media/netflix-hasan-minhaj-saudi-arabia.html',\n",
       "  'title': 'Netflix Blocks Show in Saudi Arabia Critical of Saudi Prince',\n",
       "  'imageurl': 'https://static01.nyt.com/images/2019/01/02/business/02NETFLIX-01/02NETFLIX-01-articleLarge.jpg',\n",
       "  'publishdate': 20190101},\n",
       " {'id': '697477b0-b90f-4611-8dc9-841306612eef',\n",
       "  'sourceurl': 'https://www.nytimes.com/2019/01/01/us/politics/elizabeth-warren-president.html',\n",
       "  'title': 'On Politics: Elizabeth Warren Is Running for President',\n",
       "  'imageurl': 'NA',\n",
       "  'publishdate': 20190101},\n",
       " {'id': 'ea6eac3b-b9c4-4599-8997-4c92ac417d9d',\n",
       "  'sourceurl': 'https://www.nytimes.com/2019/01/01/business/dealbook/insider-trading-enforcement-prosecution.html',\n",
       "  'title': 'Insider Trading Remains a Fixture for Securities Enforcement',\n",
       "  'imageurl': 'https://static01.nyt.com/images/2019/01/02/business/02DB-HENNING-01/merlin_148664283_7a4c4d61-c10f-4dbc-9c1e-51afcf313f40-articleLarge.jpg',\n",
       "  'publishdate': 20190101},\n",
       " {'id': 'b3e49fb0-1442-486b-a5cd-6b8f08fd093f',\n",
       "  'sourceurl': 'https://www.nytimes.com/2019/01/01/technology/artificial-intelligence-export-restrictions.html',\n",
       "  'title': 'Curbs on A.I. Exports? Silicon Valley Fears Losing Its Edge',\n",
       "  'imageurl': 'https://static01.nyt.com/images/2019/01/01/business/01aiexports-illo-print/merlin_148528041_13b55b7c-f1e5-4d32-87d5-658a980a24eb-articleLarge.jpg',\n",
       "  'publishdate': 20190101}]"
      ]
     },
     "execution_count": 19,
     "metadata": {},
     "output_type": "execute_result"
    }
   ],
   "source": [
    "articles"
   ]
  },
  {
   "cell_type": "code",
   "execution_count": 10,
   "metadata": {},
   "outputs": [
    {
     "data": {
      "text/plain": [
       "{'Items': [{'publishdate': Decimal('20190101'),\n",
       "   'ID': '9ceb6551-c43c-4c3e-a65e-8127bbf12516',\n",
       "   'sourceurl': 'https://www.nytimes.com/2019/01/01/realestate/commercial/new-york-commercial-real-estate.html',\n",
       "   'imageurl': 'https://static01.nyt.com/images/2019/01/02/realestate/commercial/02trans/02trans-articleLarge.jpg',\n",
       "   'title': 'Recent Commercial Real Estate Transactions'},\n",
       "  {'publishdate': Decimal('20190101'),\n",
       "   'ID': '94606fd6-8ab5-4cd2-aa19-361282a486d7',\n",
       "   'sourceurl': 'https://www.nytimes.com/interactive/2019/01/01/business/dealbook/stock-markets-2019.html',\n",
       "   'imageurl': 'https://static01.nyt.com/images/2019/01/01/business/market-outlook-2019-1546294800699/market-outlook-2019-1546294800699-articleLarge.png',\n",
       "   'title': 'Will 2019 Be a Good Year for Investors? Here Are 4 Key Factors Affecting Stocks and the Economy'},\n",
       "  {'publishdate': Decimal('20190101'),\n",
       "   'ID': '9176a218-683e-43e6-9b2e-b3cb0a0e6ec6',\n",
       "   'sourceurl': 'https://www.nytimes.com/2019/01/01/business/timber-wood-construction-real-estate.html',\n",
       "   'imageurl': 'https://static01.nyt.com/images/2019/01/02/business/02TIMBER-01/merlin_148337145_35a16718-b1b5-4806-8963-5a587c843952-articleLarge.jpg',\n",
       "   'title': 'Log Cabins? No, These Wooden Buildings Are High-Rises'},\n",
       "  {'publishdate': Decimal('20190101'),\n",
       "   'ID': 'e21f2682-25a4-4598-ba8b-5060188d2659',\n",
       "   'sourceurl': 'https://www.nytimes.com/2019/01/01/business/media/podcasts-hollywood-tv-shows.html',\n",
       "   'imageurl': 'https://static01.nyt.com/images/2018/12/28/business/00PODTV-01/00PODTV-01-articleLarge.jpg',\n",
       "   'title': 'In the Race for Content, Hollywood Is Buying Up Hit Podcasts'},\n",
       "  {'publishdate': Decimal('20190101'),\n",
       "   'ID': '6f71e4fb-6bc9-4396-b469-24d5be4d1bc3',\n",
       "   'sourceurl': 'https://www.nytimes.com/2019/01/01/technology/big-tech-troubled-just-getting-started.html',\n",
       "   'imageurl': 'https://static01.nyt.com/images/2018/12/27/business/00bigtech01/merlin_148372275_bad88144-35fb-49f7-9828-0c6c5e0d8810-articleLarge.jpg',\n",
       "   'title': 'Big Tech May Look Troubled, but It’s Just Getting Started'},\n",
       "  {'publishdate': Decimal('20190101'),\n",
       "   'ID': '8194fb03-dca8-420c-92b2-1ff0d330500f',\n",
       "   'sourceurl': 'https://www.nytimes.com/2019/01/01/business/media/netflix-hasan-minhaj-saudi-arabia.html',\n",
       "   'imageurl': 'https://static01.nyt.com/images/2019/01/02/business/02NETFLIX-01/02NETFLIX-01-articleLarge.jpg',\n",
       "   'title': 'Netflix Blocks Show in Saudi Arabia Critical of Saudi Prince'},\n",
       "  {'publishdate': Decimal('20190101'),\n",
       "   'ID': '697477b0-b90f-4611-8dc9-841306612eef',\n",
       "   'sourceurl': 'https://www.nytimes.com/2019/01/01/us/politics/elizabeth-warren-president.html',\n",
       "   'imageurl': 'NA',\n",
       "   'title': 'On Politics: Elizabeth Warren Is Running for President'},\n",
       "  {'publishdate': Decimal('20190101'),\n",
       "   'ID': 'ea6eac3b-b9c4-4599-8997-4c92ac417d9d',\n",
       "   'sourceurl': 'https://www.nytimes.com/2019/01/01/business/dealbook/insider-trading-enforcement-prosecution.html',\n",
       "   'imageurl': 'https://static01.nyt.com/images/2019/01/02/business/02DB-HENNING-01/merlin_148664283_7a4c4d61-c10f-4dbc-9c1e-51afcf313f40-articleLarge.jpg',\n",
       "   'title': 'Insider Trading Remains a Fixture for Securities Enforcement'},\n",
       "  {'publishdate': Decimal('20190101'),\n",
       "   'ID': 'b3e49fb0-1442-486b-a5cd-6b8f08fd093f',\n",
       "   'sourceurl': 'https://www.nytimes.com/2019/01/01/technology/artificial-intelligence-export-restrictions.html',\n",
       "   'imageurl': 'https://static01.nyt.com/images/2019/01/01/business/01aiexports-illo-print/merlin_148528041_13b55b7c-f1e5-4d32-87d5-658a980a24eb-articleLarge.jpg',\n",
       "   'title': 'Curbs on A.I. Exports? Silicon Valley Fears Losing Its Edge'}],\n",
       " 'Count': 9,\n",
       " 'ScannedCount': 9,\n",
       " 'ResponseMetadata': {'RequestId': 'INKRTV1EHL5FQ0PRHHQ134U6QVVV4KQNSO5AEMVJF66Q9ASUAAJG',\n",
       "  'HTTPStatusCode': 200,\n",
       "  'HTTPHeaders': {'server': 'Server',\n",
       "   'date': 'Thu, 04 Jul 2019 17:20:11 GMT',\n",
       "   'content-type': 'application/x-amz-json-1.0',\n",
       "   'content-length': '3613',\n",
       "   'connection': 'keep-alive',\n",
       "   'x-amzn-requestid': 'INKRTV1EHL5FQ0PRHHQ134U6QVVV4KQNSO5AEMVJF66Q9ASUAAJG',\n",
       "   'x-amz-crc32': '524863628'},\n",
       "  'RetryAttempts': 0}}"
      ]
     },
     "execution_count": 10,
     "metadata": {},
     "output_type": "execute_result"
    }
   ],
   "source": [
    "queryResponse"
   ]
  },
  {
   "cell_type": "code",
   "execution_count": null,
   "metadata": {},
   "outputs": [],
   "source": []
  },
  {
   "cell_type": "code",
   "execution_count": null,
   "metadata": {},
   "outputs": [],
   "source": []
  },
  {
   "cell_type": "code",
   "execution_count": null,
   "metadata": {},
   "outputs": [],
   "source": []
  }
 ],
 "metadata": {
  "kernelspec": {
   "display_name": "Python 3",
   "language": "python",
   "name": "python3"
  },
  "language_info": {
   "codemirror_mode": {
    "name": "ipython",
    "version": 3
   },
   "file_extension": ".py",
   "mimetype": "text/x-python",
   "name": "python",
   "nbconvert_exporter": "python",
   "pygments_lexer": "ipython3",
   "version": "3.7.1"
  }
 },
 "nbformat": 4,
 "nbformat_minor": 2
}
