{
 "cells": [
  {
   "cell_type": "markdown",
   "metadata": {},
   "source": [
    "### Explore Data\n",
    "Notebook is to explore the Yelp data to determine if it can be used on a local instance of Juypter Notebook."
   ]
  },
  {
   "cell_type": "code",
   "execution_count": 2,
   "metadata": {},
   "outputs": [],
   "source": [
    "#-- Dependences\n",
    "import pandas as pd\n",
    "import os"
   ]
  },
  {
   "cell_type": "code",
   "execution_count": 3,
   "metadata": {},
   "outputs": [],
   "source": [
    "#- Path to dataset\n",
    "downloadDataPath = \"/Users/thefixermac/Development_Data/Workshop/DataScience_FinalProject\"\n",
    "\n",
    "businessPath = os.path.join(downloadDataPath, \"yelp_dataset\", \"business.json\")\n",
    "\n"
   ]
  },
  {
   "cell_type": "markdown",
   "metadata": {},
   "source": [
    "#### 1 Business.json\n",
    "Oepn the Yelp dataset for the business; 138 MB"
   ]
  },
  {
   "cell_type": "code",
   "execution_count": null,
   "metadata": {},
   "outputs": [],
   "source": [
    "\n",
    "business_df = pd.read_json(businessPath, lines=True)\n",
    "\n",
    "business_df.head()"
   ]
  },
  {
   "cell_type": "code",
   "execution_count": null,
   "metadata": {},
   "outputs": [],
   "source": [
    "#-- Information on Cities\n",
    "\n",
    "#- Get Cities\n",
    "businessCities = business_df.city.unique()\n",
    "\n",
    "#- Count\n",
    "print(f'Total distict cities: {len(businessCities)}')\n",
    "\n",
    "#- Printout Cities\n",
    "print(\" \")\n",
    "      \n",
    "for city in businessCities:\n",
    "    print(city)"
   ]
  },
  {
   "cell_type": "code",
   "execution_count": null,
   "metadata": {},
   "outputs": [],
   "source": [
    "business_df.shape"
   ]
  },
  {
   "cell_type": "markdown",
   "metadata": {},
   "source": [
    "#### 2 Reviews\n",
    "Attempt to open the review.json that is 5.35 GB file"
   ]
  },
  {
   "cell_type": "code",
   "execution_count": 8,
   "metadata": {
    "scrolled": true
   },
   "outputs": [
    {
     "name": "stdout",
     "output_type": "stream",
     "text": [
      "Loading data: 1\n",
      "Loading data: 2\n",
      "Loading data: 3\n",
      "Loading data: 4\n",
      "Loading data: 5\n",
      "Loading data: 6\n",
      "Loading data: 7\n",
      "Loading data: 8\n",
      "Loading data: 9\n",
      "Loading data: 10\n",
      "Loading data: 11\n",
      "Loading data: 12\n",
      "Loading data: 13\n",
      "Loading data: 14\n",
      "Loading data: 15\n",
      "Loading data: 16\n",
      "Loading data: 17\n",
      "Loading data: 18\n",
      "Loading data: 19\n",
      "Loading data: 20\n",
      "Loading data: 21\n",
      "Loading data: 22\n",
      "Loading data: 23\n",
      "Loading data: 24\n",
      "Loading data: 25\n",
      "Loading data: 26\n",
      "Loading data: 27\n",
      "Loading data: 28\n",
      "Loading data: 29\n",
      "Loading data: 30\n",
      "Loading data: 31\n",
      "Loading data: 32\n",
      "Loading data: 33\n",
      "Loading data: 34\n",
      "Loading data: 35\n",
      "Loading data: 36\n",
      "Loading data: 37\n",
      "Loading data: 38\n",
      "Loading data: 39\n",
      "Loading data: 40\n",
      "Loading data: 41\n",
      "Loading data: 42\n",
      "Loading data: 43\n",
      "Loading data: 44\n",
      "Loading data: 45\n",
      "Loading data: 46\n",
      "Loading data: 47\n",
      "Loading data: 48\n",
      "Loading data: 49\n",
      "Loading data: 50\n",
      "Loading data: 51\n",
      "Loading data: 52\n",
      "Loading data: 53\n",
      "Loading data: 54\n",
      "Loading data: 55\n",
      "Loading data: 56\n",
      "Loading data: 57\n",
      "Loading data: 58\n",
      "Loading data: 59\n",
      "Loading data: 60\n",
      "Loading data: 61\n",
      "Loading data: 62\n",
      "Loading data: 63\n",
      "Loading data: 64\n",
      "Loading data: 65\n",
      "Loading data: 66\n",
      "Loading data: 67\n",
      "Completed loading data\n"
     ]
    }
   ],
   "source": [
    "\n",
    "#- Create Path\n",
    "reviewPath = os.path.join(downloadDataPath, \"yelp_dataset\", \"review.json\")\n",
    "\n",
    "\n",
    "#- Chunk File\n",
    "chunkSize = 100000\n",
    "\n",
    "reviewJsonReader = pd.read_json(reviewPath, lines=True, chunksize=chunkSize)\n",
    "\n",
    "\n",
    "#- Load into Dataframe\n",
    "counter = 0\n",
    "review_df = pd.DataFrame()\n",
    "\n",
    "for reader in reviewJsonReader:\n",
    "    \n",
    "    counter +=1\n",
    "    print(f'Loading data: {counter}')\n",
    "    \n",
    "    review_df = pd.concat([review_df, reader])\n",
    "    \n",
    "    \n",
    "    \n",
    "print(\"Completed loading data\")\n",
    "\n"
   ]
  },
  {
   "cell_type": "code",
   "execution_count": 9,
   "metadata": {},
   "outputs": [
    {
     "data": {
      "text/plain": [
       "(6685900, 9)"
      ]
     },
     "execution_count": 9,
     "metadata": {},
     "output_type": "execute_result"
    }
   ],
   "source": [
    "review_df.shape\n"
   ]
  },
  {
   "cell_type": "code",
   "execution_count": null,
   "metadata": {},
   "outputs": [],
   "source": []
  }
 ],
 "metadata": {
  "kernelspec": {
   "display_name": "Python 3",
   "language": "python",
   "name": "python3"
  },
  "language_info": {
   "codemirror_mode": {
    "name": "ipython",
    "version": 3
   },
   "file_extension": ".py",
   "mimetype": "text/x-python",
   "name": "python",
   "nbconvert_exporter": "python",
   "pygments_lexer": "ipython3",
   "version": "3.7.1"
  }
 },
 "nbformat": 4,
 "nbformat_minor": 2
}
